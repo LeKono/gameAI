{
 "cells": [
  {
   "cell_type": "code",
   "execution_count": 1,
   "metadata": {},
   "outputs": [
    {
     "name": "stdout",
     "output_type": "stream",
     "text": [
      "=== Lap: 0 ===\n",
      "'Y'\t1\n",
      "'R'\t0\n",
      "DRAW\t0\n",
      "=== Lap: 100 ===\n",
      "'Y'\t101\n",
      "'R'\t0\n",
      "DRAW\t0\n",
      "=== Lap: 200 ===\n",
      "'Y'\t201\n",
      "'R'\t0\n",
      "DRAW\t0\n",
      "=== Lap: 300 ===\n",
      "'Y'\t301\n",
      "'R'\t0\n",
      "DRAW\t0\n",
      "=== Lap: 400 ===\n",
      "'Y'\t401\n",
      "'R'\t0\n",
      "DRAW\t0\n",
      "=== Lap: 500 ===\n",
      "'Y'\t501\n",
      "'R'\t0\n",
      "DRAW\t0\n",
      "=== Lap: 600 ===\n",
      "'Y'\t601\n",
      "'R'\t0\n",
      "DRAW\t0\n",
      "=== Lap: 700 ===\n",
      "'Y'\t701\n",
      "'R'\t0\n",
      "DRAW\t0\n",
      "=== Lap: 800 ===\n",
      "'Y'\t801\n",
      "'R'\t0\n",
      "DRAW\t0\n",
      "=== Lap: 900 ===\n",
      "'Y'\t901\n",
      "'R'\t0\n",
      "DRAW\t0\n",
      "Tournament results in: \n",
      "'Y'\t1000\n",
      "'R'\t0\n",
      "DRAW\t0\n"
     ]
    }
   ],
   "source": [
    "# Import Connect4 and play a Tournament on 19x19 Field\n",
    "from connect_four import ConnectFour\n",
    "game = ConnectFour(19,19)\n",
    "tournament_results = game.play_a_tournament(use_mmv=True)"
   ]
  },
  {
   "cell_type": "code",
   "execution_count": null,
   "metadata": {},
   "outputs": [],
   "source": []
  }
 ],
 "metadata": {
  "kernelspec": {
   "display_name": "Python 3",
   "language": "python",
   "name": "python3"
  },
  "language_info": {
   "codemirror_mode": {
    "name": "ipython",
    "version": 3
   },
   "file_extension": ".py",
   "mimetype": "text/x-python",
   "name": "python",
   "nbconvert_exporter": "python",
   "pygments_lexer": "ipython3",
   "version": "3.6.5"
  }
 },
 "nbformat": 4,
 "nbformat_minor": 2
}
