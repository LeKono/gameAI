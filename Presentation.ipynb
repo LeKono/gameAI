{
 "cells": [
  {
   "cell_type": "code",
   "execution_count": 1,
   "metadata": {
    "collapsed": true,
    "slideshow": {
     "slide_type": "skip"
    }
   },
   "outputs": [],
   "source": [
    "# Import\n",
    "import matplotlib.pyplot as plt\n",
    "import numpy as np"
   ]
  },
  {
   "cell_type": "markdown",
   "metadata": {
    "slideshow": {
     "slide_type": "slide"
    }
   },
   "source": [
    "# GameAI\n",
    "## Project 01 - Simple strategies for turn-based games"
   ]
  },
  {
   "cell_type": "markdown",
   "metadata": {
    "slideshow": {
     "slide_type": "slide"
    }
   },
   "source": [
    "## ToDo\n",
    "\n",
    "* 1.2 - Simple strategies for tic tac toe\n",
    " * 1.2.1 - Implement a probabilistic strategy\n",
    " * 1.2.2 - Implement a heuristic strategy\n",
    "* 1.3 - Connect Four"
   ]
  },
  {
   "cell_type": "markdown",
   "metadata": {
    "slideshow": {
     "slide_type": "slide"
    }
   },
   "source": [
    "## Task 1.2 - Simple strategies for tic tac toe"
   ]
  },
  {
   "cell_type": "markdown",
   "metadata": {
    "slideshow": {
     "slide_type": "fragment"
    }
   },
   "source": [
    "* Script -> Object oriented implementation\n",
    " * Play multiple games on one instance (`reset_game()`)\n",
    " * Collect data in the object"
   ]
  },
  {
   "cell_type": "code",
   "execution_count": 2,
   "metadata": {
    "collapsed": true,
    "slideshow": {
     "slide_type": "fragment"
    }
   },
   "outputs": [],
   "source": [
    "# Import and initiate TicTacToe\n",
    "from tic_tac_toe_B import TicTacToe\n",
    "tic_tac_toe = TicTacToe()"
   ]
  },
  {
   "cell_type": "code",
   "execution_count": 3,
   "metadata": {
    "slideshow": {
     "slide_type": "subslide"
    }
   },
   "outputs": [
    {
     "name": "stdout",
     "output_type": "stream",
     "text": [
      "x moves\n",
      "[[' ' ' ' ' ']\n",
      " ['x' ' ' ' ']\n",
      " [' ' ' ' ' ']]\n",
      "o moves\n",
      "[[' ' ' ' 'o']\n",
      " ['x' ' ' ' ']\n",
      " [' ' ' ' ' ']]\n",
      "x moves\n",
      "[[' ' 'x' 'o']\n",
      " ['x' ' ' ' ']\n",
      " [' ' ' ' ' ']]\n",
      "o moves\n",
      "[[' ' 'x' 'o']\n",
      " ['x' ' ' ' ']\n",
      " ['o' ' ' ' ']]\n",
      "x moves\n",
      "[[' ' 'x' 'o']\n",
      " ['x' ' ' ' ']\n",
      " ['o' ' ' 'x']]\n",
      "o moves\n",
      "[[' ' 'x' 'o']\n",
      " ['x' ' ' ' ']\n",
      " ['o' 'o' 'x']]\n",
      "x moves\n",
      "[[' ' 'x' 'o']\n",
      " ['x' ' ' 'x']\n",
      " ['o' 'o' 'x']]\n",
      "o moves\n",
      "[[' ' 'x' 'o']\n",
      " ['x' 'o' 'x']\n",
      " ['o' 'o' 'x']]\n",
      "player o wins after 8 moves\n"
     ]
    },
    {
     "data": {
      "text/plain": [
       "-1"
      ]
     },
     "execution_count": 3,
     "metadata": {},
     "output_type": "execute_result"
    }
   ],
   "source": [
    "tic_tac_toe.play_a_game()"
   ]
  },
  {
   "cell_type": "code",
   "execution_count": 4,
   "metadata": {
    "slideshow": {
     "slide_type": "skip"
    }
   },
   "outputs": [
    {
     "data": {
      "text/plain": [
       "array([[0, 0, 1],\n",
       "       [0, 1, 0],\n",
       "       [1, 0, 0]])"
      ]
     },
     "execution_count": 4,
     "metadata": {},
     "output_type": "execute_result"
    }
   ],
   "source": [
    "# Array containing count data\n",
    "tic_tac_toe.S_stats"
   ]
  },
  {
   "cell_type": "code",
   "execution_count": 5,
   "metadata": {
    "collapsed": true,
    "slideshow": {
     "slide_type": "skip"
    }
   },
   "outputs": [],
   "source": [
    "# Completely reset the data in the instance.\n",
    "tic_tac_toe.reset_game(total_reset=True)"
   ]
  },
  {
   "cell_type": "markdown",
   "metadata": {
    "slideshow": {
     "slide_type": "subslide"
    }
   },
   "source": [
    "## 1.2.1 - Implement a probabilistic strategy\n",
    "\n",
    "* Play at least 1000 games\n",
    "\n",
    "* Count cell contribution to a win\n",
    "\n",
    "* Normalize count data\n",
    "\n",
    "* Make player X to 'use' the data"
   ]
  },
  {
   "cell_type": "markdown",
   "metadata": {
    "slideshow": {
     "slide_type": "subslide"
    }
   },
   "source": [
    "* Play at least 1000 games\n",
    "* ..."
   ]
  },
  {
   "cell_type": "code",
   "execution_count": 6,
   "metadata": {
    "scrolled": true,
    "slideshow": {
     "slide_type": "skip"
    }
   },
   "outputs": [
    {
     "name": "stdout",
     "output_type": "stream",
     "text": [
      "=== Lap: 0 ===\n",
      "'x'\t1\n",
      "'o'\t0\n",
      "DRAW\t0\n",
      "=== Lap: 5000 ===\n",
      "'x'\t2981\n",
      "'o'\t1396\n",
      "DRAW\t624\n",
      "Tournament results in: \n",
      "'x'\t5926\n",
      "'o'\t2800\n",
      "DRAW\t1274\n"
     ]
    }
   ],
   "source": [
    "tournament_results = tic_tac_toe.play_a_tournament(laps=10000, printing_modulo=5000)"
   ]
  },
  {
   "cell_type": "code",
   "execution_count": 7,
   "metadata": {
    "slideshow": {
     "slide_type": "fragment"
    }
   },
   "outputs": [
    {
     "data": {
      "image/png": "[encoded data removed]",
      "text/plain": [
       "<matplotlib.figure.Figure at 0x13c8224deb8>"
      ]
     },
     "metadata": {},
     "output_type": "display_data"
    }
   ],
   "source": [
    "# Plot Barchart of wins and draws\n",
    "tic_tac_toe.plot_bar(label=\"Random Tournament\", statistics=tournament_results)"
   ]
  },
  {
   "cell_type": "markdown",
   "metadata": {
    "slideshow": {
     "slide_type": "subslide"
    }
   },
   "source": [
    "* ...\n",
    "\n",
    "* Count cell contribution to a win\n",
    "\n",
    "* Normalize count data\n",
    "\n",
    "* ..."
   ]
  },
  {
   "cell_type": "code",
   "execution_count": 8,
   "metadata": {
    "slideshow": {
     "slide_type": "fragment"
    }
   },
   "outputs": [
    {
     "data": {
      "text/plain": [
       "array([[3487, 2065, 3513],\n",
       "       [2059, 5026, 2118],\n",
       "       [3444, 2055, 3536]])"
      ]
     },
     "execution_count": 8,
     "metadata": {},
     "output_type": "execute_result"
    }
   ],
   "source": [
    "# Cell contribution to wins\n",
    "tic_tac_toe.S_stats"
   ]
  },
  {
   "cell_type": "code",
   "execution_count": 9,
   "metadata": {
    "slideshow": {
     "slide_type": "fragment"
    }
   },
   "outputs": [
    {
     "name": "stdout",
     "output_type": "stream",
     "text": [
      "Field\tNormalized value\n",
      "0\t0.1277149031241988\n",
      "1\t0.07563271435373402\n",
      "2\t0.12866717943083178\n",
      "3\t0.07541295828297256\n",
      "4\t0.18408233527451195\n",
      "5\t0.07757389297879354\n",
      "6\t0.12613998461707504\n",
      "7\t0.07526645423579827\n",
      "8\t0.12950957770208402\n"
     ]
    }
   ],
   "source": [
    "# Normalize data and save to a JSON file\n",
    "tic_tac_toe.normalize_statistics(print_normalization=True)"
   ]
  },
  {
   "cell_type": "markdown",
   "metadata": {
    "slideshow": {
     "slide_type": "subslide"
    }
   },
   "source": [
    "* ...\n",
    "\n",
    "* Make player X to 'use' the data"
   ]
  },
  {
   "cell_type": "code",
   "execution_count": 10,
   "metadata": {
    "scrolled": true,
    "slideshow": {
     "slide_type": "skip"
    }
   },
   "outputs": [
    {
     "name": "stdout",
     "output_type": "stream",
     "text": [
      "=== Lap: 0 ===\n",
      "'x'\t0\n",
      "'o'\t1\n",
      "DRAW\t0\n",
      "=== Lap: 5000 ===\n",
      "'x'\t4300\n",
      "'o'\t464\n",
      "DRAW\t237\n",
      "Tournament results in: \n",
      "'x'\t8588\n",
      "'o'\t941\n",
      "DRAW\t471\n"
     ]
    }
   ],
   "source": [
    "# Play a non random tournament (using determined statistics)\n",
    "prob_stats = tic_tac_toe.play_a_tournament(laps=10000, printing_modulo=5000, random=False, x_player_method='p')"
   ]
  },
  {
   "cell_type": "code",
   "execution_count": 11,
   "metadata": {
    "slideshow": {
     "slide_type": "fragment"
    }
   },
   "outputs": [
    {
     "data": {
      "image/png": "[encoded data removed]",
      "text/plain": [
       "<matplotlib.figure.Figure at 0x13c8114f8d0>"
      ]
     },
     "metadata": {},
     "output_type": "display_data"
    }
   ],
   "source": [
    "# Plot Barchart of wins and draws\n",
    "tic_tac_toe.plot_bar(statistics=prob_stats)"
   ]
  },
  {
   "cell_type": "markdown",
   "metadata": {
    "slideshow": {
     "slide_type": "slide"
    }
   },
   "source": [
    "## 1.2.2 - Implement a heuristic strategy\n",
    "\n",
    "* Evaluate quality of potential move\n",
    "* Make player X to follow that strategy"
   ]
  },
  {
   "cell_type": "markdown",
   "metadata": {
    "slideshow": {
     "slide_type": "subslide"
    }
   },
   "source": [
    "* Evaluate quality of potential move\n",
    " * Consider all free positions\n",
    " * Select most auspicious one"
   ]
  },
  {
   "cell_type": "markdown",
   "metadata": {
    "slideshow": {
     "slide_type": "fragment"
    }
   },
   "source": [
    "1. Can I win?\n",
    " 1. Yes: Put the mark here\n",
    " 2. No: Continue with 2\n",
    "  \n",
    "2. Can oponent win?\n",
    " 1. Yes: Put the mark here\n",
    " 2. No: Continue with 3\n",
    " \n",
    "3. Apply probabilistic strategy"
   ]
  },
  {
   "cell_type": "code",
   "execution_count": 12,
   "metadata": {
    "scrolled": true,
    "slideshow": {
     "slide_type": "skip"
    }
   },
   "outputs": [
    {
     "name": "stdout",
     "output_type": "stream",
     "text": [
      "=== Lap: 0 ===\n",
      "'x'\t1\n",
      "'o'\t0\n",
      "DRAW\t0\n",
      "=== Lap: 5000 ===\n",
      "'x'\t4835\n",
      "'o'\t0\n",
      "DRAW\t166\n",
      "Tournament results in: \n",
      "'x'\t9644\n",
      "'o'\t0\n",
      "DRAW\t356\n"
     ]
    }
   ],
   "source": [
    "# Play a non random tournament (using evaluation of free field)\n",
    "heu_stats = tic_tac_toe.play_a_tournament(laps=10000, printing_modulo=5000, random=False, x_player_method=\"h\")"
   ]
  },
  {
   "cell_type": "code",
   "execution_count": 13,
   "metadata": {
    "slideshow": {
     "slide_type": "subslide"
    }
   },
   "outputs": [
    {
     "data": {
      "image/png": "[encoded data removed]",
      "text/plain": [
       "<matplotlib.figure.Figure at 0x13c826c48d0>"
      ]
     },
     "metadata": {},
     "output_type": "display_data"
    }
   ],
   "source": [
    "# Plot Barchart of wins and draws\n",
    "tic_tac_toe.plot_bar(statistics=heu_stats)"
   ]
  },
  {
   "cell_type": "markdown",
   "metadata": {
    "slideshow": {
     "slide_type": "slide"
    }
   },
   "source": [
    "## Task 1.3 - Connect Four"
   ]
  },
  {
   "cell_type": "markdown",
   "metadata": {
    "slideshow": {
     "slide_type": "fragment"
    }
   },
   "source": [
    "* Implement basic mechanics\n",
    " * Random moves\n",
    " * Termination tests\n",
    "* Play a tournament\n",
    " * Try to collect statistics about 'good moves'\n",
    "* Realize a \"beautiful\" GUI\n",
    " * Observe game progress\n",
    " * Possible user input"
   ]
  },
  {
   "cell_type": "markdown",
   "metadata": {
    "slideshow": {
     "slide_type": "subslide"
    }
   },
   "source": [
    "### Termination tests\n",
    "![Token_inserted](project_01/Token_base.png)"
   ]
  },
  {
   "cell_type": "markdown",
   "metadata": {
    "slideshow": {
     "slide_type": "subslide"
    }
   },
   "source": [
    "![count_right](project_01/Token_right.png)"
   ]
  },
  {
   "cell_type": "markdown",
   "metadata": {
    "slideshow": {
     "slide_type": "subslide"
    }
   },
   "source": [
    "![count_left](project_01/Token_left.png)"
   ]
  },
  {
   "cell_type": "markdown",
   "metadata": {
    "slideshow": {
     "slide_type": "subslide"
    }
   },
   "source": [
    "![count_down](project_01/Token_down.png)"
   ]
  },
  {
   "cell_type": "markdown",
   "metadata": {
    "slideshow": {
     "slide_type": "subslide"
    }
   },
   "source": [
    "![all_directions](project_01/Token_all.png)"
   ]
  },
  {
   "cell_type": "markdown",
   "metadata": {
    "slideshow": {
     "slide_type": "fragment"
    }
   },
   "source": [
    "```python \n",
    "Count_Array = [1, 3, 3, ..., 4]\n",
    "```"
   ]
  },
  {
   "cell_type": "code",
   "execution_count": 14,
   "metadata": {
    "slideshow": {
     "slide_type": "skip"
    }
   },
   "outputs": [],
   "source": [
    "# Import and initiate Connect4\n",
    "from connect_four import ConnectFour\n",
    "import matplotlib.pyplot as plt\n",
    "connect_four = ConnectFour()"
   ]
  },
  {
   "cell_type": "code",
   "execution_count": 15,
   "metadata": {
    "slideshow": {
     "slide_type": "skip"
    }
   },
   "outputs": [
    {
     "name": "stdout",
     "output_type": "stream",
     "text": [
      "=== Lap: 0 ===\n",
      "'Y'\t0\n",
      "'R'\t1\n",
      "DRAW\t0\n",
      "=== Lap: 5000 ===\n",
      "'Y'\t2771\n",
      "'R'\t2214\n",
      "DRAW\t16\n",
      "Tournament results in: \n",
      "'Y'\t5560\n",
      "'R'\t4410\n",
      "DRAW\t30\n"
     ]
    }
   ],
   "source": [
    "# Play a tournament of ConnectFour\n",
    "tournament_results = connect_four.play_a_tournament(laps=10000, modulo=5000)"
   ]
  },
  {
   "cell_type": "markdown",
   "metadata": {
    "slideshow": {
     "slide_type": "subslide"
    }
   },
   "source": [
    "### Collecting statistics about 'good moves'"
   ]
  },
  {
   "cell_type": "code",
   "execution_count": 16,
   "metadata": {
    "slideshow": {
     "slide_type": "fragment"
    }
   },
   "outputs": [
    {
     "data": {
      "image/png": "[encoded data removed]",
      "text/plain": [
       "<matplotlib.figure.Figure at 0x13c8275bb00>"
      ]
     },
     "metadata": {},
     "output_type": "display_data"
    }
   ],
   "source": [
    "# 10k game tournament results\n",
    "connect_four.plot_bar(label=\"Random Tournament\", statistics=tournament_results)"
   ]
  },
  {
   "cell_type": "code",
   "execution_count": 17,
   "metadata": {
    "slideshow": {
     "slide_type": "skip"
    }
   },
   "outputs": [],
   "source": [
    "# Get the top moves for the 1st, 2nd and 3rd move of winning player\n",
    "\n",
    "d = [{}, {}, {}, {}]\n",
    "\n",
    "number_of_total_wins = len(connect_four.stats['win_moves'])\n",
    "\n",
    "for moveset in connect_four.stats['win_moves']:\n",
    "    for index, move in enumerate(moveset[:4]):\n",
    "        if move in d[index]:\n",
    "            d[index][move] += 1\n",
    "        else:\n",
    "            d[index][move] = 1"
   ]
  },
  {
   "cell_type": "code",
   "execution_count": 18,
   "metadata": {
    "slideshow": {
     "slide_type": "skip"
    }
   },
   "outputs": [],
   "source": [
    "# Helping function to plot the bars\n",
    "def plot_bars(data_dict, label=\"Bars\", xlabel=\"Column\", ylabel=\"# of set tokens\"):\n",
    "    \"\"\"Helper to plot bars for 1st move distribution\n",
    "    \n",
    "    :param data_dict: Data dict that contains data to plot.\n",
    "    \"\"\"\n",
    "    x = []\n",
    "    y = []\n",
    "\n",
    "    for key, value in data_dict.items():\n",
    "        x.append(key)\n",
    "        y.append(value)\n",
    "\n",
    "    plt.bar(x, y)\n",
    "    plt.xlabel(xlabel)\n",
    "    plt.ylabel(ylabel)\n",
    "    plt.title(label)\n",
    "    plt.show()"
   ]
  },
  {
   "cell_type": "code",
   "execution_count": 19,
   "metadata": {
    "slideshow": {
     "slide_type": "subslide"
    }
   },
   "outputs": [
    {
     "data": {
      "image/png": "[encoded data removed]",
      "text/plain": [
       "<matplotlib.figure.Figure at 0x13c82b8bcc0>"
      ]
     },
     "metadata": {},
     "output_type": "display_data"
    }
   ],
   "source": [
    "# Using helperfunction to plot\n",
    "plot_bars(d[0], \"1st Move\")"
   ]
  },
  {
   "cell_type": "code",
   "execution_count": 20,
   "metadata": {
    "slideshow": {
     "slide_type": "fragment"
    }
   },
   "outputs": [
    {
     "data": {
      "image/png": "[encoded data removed]",
      "text/plain": [
       "<matplotlib.figure.Figure at 0x13c82bb65f8>"
      ]
     },
     "metadata": {},
     "output_type": "display_data"
    }
   ],
   "source": [
    "# Using helperfunction to plot\n",
    "plot_bars(d[1], \"2nd Move\")"
   ]
  },
  {
   "cell_type": "code",
   "execution_count": 21,
   "metadata": {
    "scrolled": true,
    "slideshow": {
     "slide_type": "subslide"
    }
   },
   "outputs": [
    {
     "data": {
      "image/png": "[encoded data removed]",
      "text/plain": [
       "<matplotlib.figure.Figure at 0x13c82be4668>"
      ]
     },
     "metadata": {},
     "output_type": "display_data"
    }
   ],
   "source": [
    "# Using helperfunction to plot\n",
    "plot_bars(d[2], \"3rd Move\")"
   ]
  },
  {
   "cell_type": "code",
   "execution_count": 22,
   "metadata": {
    "slideshow": {
     "slide_type": "subslide"
    }
   },
   "outputs": [
    {
     "data": {
      "image/png": "[encoded data removed]",
      "text/plain": [
       "<matplotlib.figure.Figure at 0x13c827442b0>"
      ]
     },
     "metadata": {},
     "output_type": "display_data"
    }
   ],
   "source": [
    "# Using helperfunction to plot\n",
    "plot_bars(connect_four.stats['win_direction'], \"Winning directions\", \"Direction\", \"# of winns\")"
   ]
  },
  {
   "cell_type": "markdown",
   "metadata": {
    "slideshow": {
     "slide_type": "slide"
    }
   },
   "source": [
    "### Finding 'good moves'"
   ]
  },
  {
   "cell_type": "markdown",
   "metadata": {
    "slideshow": {
     "slide_type": "fragment"
    }
   },
   "source": [
    "* Tried to determine good 1st move"
   ]
  },
  {
   "cell_type": "markdown",
   "metadata": {
    "slideshow": {
     "slide_type": "fragment"
    }
   },
   "source": [
    "* Horizontal patterns seem to be a good 'goal'"
   ]
  },
  {
   "cell_type": "markdown",
   "metadata": {
    "slideshow": {
     "slide_type": "fragment"
    }
   },
   "source": [
    "* Not trivial to define what a good move is"
   ]
  },
  {
   "cell_type": "markdown",
   "metadata": {
    "slideshow": {
     "slide_type": "fragment"
    }
   },
   "source": [
    "* Number of possible field configurations is high\n",
    " * If a move is good depends on this configuration"
   ]
  },
  {
   "cell_type": "markdown",
   "metadata": {
    "slideshow": {
     "slide_type": "slide"
    }
   },
   "source": [
    "## Graphical User Interface"
   ]
  },
  {
   "cell_type": "code",
   "execution_count": null,
   "metadata": {
    "slideshow": {
     "slide_type": "skip"
    }
   },
   "outputs": [],
   "source": [
    "!python connect_four.py"
   ]
  },
  {
   "cell_type": "code",
   "execution_count": null,
   "metadata": {
    "collapsed": true
   },
   "outputs": [],
   "source": []
  }
 ],
 "metadata": {
  "celltoolbar": "Slideshow",
  "kernelspec": {
   "display_name": "Python 3",
   "language": "python",
   "name": "python3"
  },
  "language_info": {
   "codemirror_mode": {
    "name": "ipython",
    "version": 3
   },
   "file_extension": ".py",
   "mimetype": "text/x-python",
   "name": "python",
   "nbconvert_exporter": "python",
   "pygments_lexer": "ipython3",
   "version": "3.6.3"
  }
 },
 "nbformat": 4,
 "nbformat_minor": 2
}
