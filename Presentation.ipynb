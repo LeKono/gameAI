{
 "cells": [
  {
   "cell_type": "code",
   "execution_count": 1,
   "metadata": {
    "slideshow": {
     "slide_type": "skip"
    }
   },
   "outputs": [],
   "source": [
    "# Import and initiate\n",
    "from project_02.forest import Tree\n",
    "from tic_tac_toe import TicTacToe\n",
    "from connect_four import ConnectFour\n",
    "\n",
    "ttt = TicTacToe()\n",
    "c4 = ConnectFour()"
   ]
  },
  {
   "cell_type": "markdown",
   "metadata": {
    "slideshow": {
     "slide_type": "slide"
    }
   },
   "source": [
    "# GameAI\n",
    "## Project 02 - Game trees and path planning"
   ]
  },
  {
   "cell_type": "markdown",
   "metadata": {
    "slideshow": {
     "slide_type": "slide"
    }
   },
   "source": [
    "# ToDo\n",
    "\n",
    "* 2.1 - The tic tac toe game tree\n",
    " * 2.1.1 - Use a graph instead of tree\n",
    "* 2.2 - MinMax computations\n",
    "* 2.3 - MinMax search for Connect4\n",
    "* 2.4 - Breakout\n",
    "* 2.5 - Path planning"
   ]
  },
  {
   "cell_type": "markdown",
   "metadata": {
    "slideshow": {
     "slide_type": "slide"
    }
   },
   "source": [
    "# 2.1 - The tic tac toe game tree"
   ]
  },
  {
   "cell_type": "code",
   "execution_count": 2,
   "metadata": {
    "slideshow": {
     "slide_type": "skip"
    }
   },
   "outputs": [
    {
     "name": "stdout",
     "output_type": "stream",
     "text": [
      "({1: 131184, -1: 77904}, 46080, 549945, 294778)\n",
      "CPU times: user 1min 2s, sys: 1.48 s, total: 1min 4s\n",
      "Wall time: 1min 2s\n"
     ]
    }
   ],
   "source": [
    "%%time\n",
    "# Get the game tree data\n",
    "data = ttt.build_game_tree(ttt.S, ttt.p)\n",
    "print(data)"
   ]
  },
  {
   "cell_type": "code",
   "execution_count": 3,
   "metadata": {
    "slideshow": {
     "slide_type": "subslide"
    }
   },
   "outputs": [
    {
     "data": {
      "image/png": "[encoded data removed]",
      "text/plain": [
       "<Figure size 432x288 with 1 Axes>"
      ]
     },
     "metadata": {},
     "output_type": "display_data"
    }
   ],
   "source": [
    "# Plot the tree info\n",
    "ttt.plot_bar(statistics={1:data[0][1], -1:data[0][-1], 0:data[1]})"
   ]
  },
  {
   "cell_type": "markdown",
   "metadata": {
    "slideshow": {
     "slide_type": "fragment"
    }
   },
   "source": [
    "* Branching factor: 1.8656 (549945 / 294779)"
   ]
  },
  {
   "cell_type": "markdown",
   "metadata": {
    "slideshow": {
     "slide_type": "subslide"
    }
   },
   "source": [
    "![tttA](project_02/pictures/two_paths.png)"
   ]
  },
  {
   "cell_type": "code",
   "execution_count": 4,
   "metadata": {
    "slideshow": {
     "slide_type": "skip"
    }
   },
   "outputs": [
    {
     "name": "stdout",
     "output_type": "stream",
     "text": [
      "({1: 1834, -1: 948}, 80, 16167, 4520, <networkx.classes.graph.Graph object at 0x7f58633a61d0>)\n",
      "CPU times: user 2.26 s, sys: 207 ms, total: 2.46 s\n",
      "Wall time: 2.25 s\n"
     ]
    }
   ],
   "source": [
    "%%time\n",
    "# Get game graph data\n",
    "gdata = ttt.build_game_graph(ttt.S, ttt.p)\n",
    "print(gdata)"
   ]
  },
  {
   "cell_type": "code",
   "execution_count": 5,
   "metadata": {
    "slideshow": {
     "slide_type": "subslide"
    }
   },
   "outputs": [
    {
     "data": {
      "image/png": "[encoded data removed]",
      "text/plain": [
       "<Figure size 432x288 with 1 Axes>"
      ]
     },
     "metadata": {},
     "output_type": "display_data"
    }
   ],
   "source": [
    "# Plot the graph info\n",
    "ttt.plot_bar(statistics={1:gdata[0][1], -1:gdata[0][-1], 0:gdata[1]})"
   ]
  },
  {
   "cell_type": "markdown",
   "metadata": {
    "slideshow": {
     "slide_type": "fragment"
    }
   },
   "source": [
    "* Branching factor: 3.576 (16167 / 4521)"
   ]
  },
  {
   "cell_type": "markdown",
   "metadata": {
    "slideshow": {
     "slide_type": "subslide"
    }
   },
   "source": [
    "![tttA](project_02/pictures/graph_paths.png)"
   ]
  },
  {
   "cell_type": "markdown",
   "metadata": {
    "slideshow": {
     "slide_type": "slide"
    }
   },
   "source": [
    "# 2.2 - MinMax computations"
   ]
  },
  {
   "cell_type": "code",
   "execution_count": 6,
   "metadata": {
    "slideshow": {
     "slide_type": "skip"
    }
   },
   "outputs": [],
   "source": [
    "# Setup the tree\n",
    "tree = Tree(root_label='n0')\n",
    "\n",
    "for i in range(1,6):\n",
    "    tree.root.add_child(label='n{}'.format(i))\n",
    "\n",
    "for i,v in enumerate([15,20,1,3]):\n",
    "    tree.root.children[0].add_child(label='n{}'.format(i+6), value=v)\n",
    "    \n",
    "for i,v in enumerate([3,4]):\n",
    "    tree.root.children[1].add_child(label='n{}'.format(i+10), value=v)\n",
    "    \n",
    "for i,v in enumerate([15,10]):\n",
    "    tree.root.children[2].add_child(label='n{}'.format(i+12), value=v)\n",
    "    \n",
    "for i,v in enumerate([16,4,12]):\n",
    "    tree.root.children[3].add_child(label='n{}'.format(i+14), value=v)\n",
    "    \n",
    "for i,v in enumerate([15,12,8]):\n",
    "    tree.root.children[4].add_child(label='n{}'.format(i+17), value=v)"
   ]
  },
  {
   "cell_type": "markdown",
   "metadata": {
    "slideshow": {
     "slide_type": "subslide"
    }
   },
   "source": [
    "![treeA](project_02/pictures/tree.png)"
   ]
  },
  {
   "cell_type": "code",
   "execution_count": 7,
   "metadata": {
    "slideshow": {
     "slide_type": "fragment"
    }
   },
   "outputs": [
    {
     "name": "stdout",
     "output_type": "stream",
     "text": [
      "[INFO] Used '-1' and picked '1' of node 'n8'.\n",
      "[INFO] Used '-1' and picked '3' of node 'n10'.\n",
      "[INFO] Used '-1' and picked '10' of node 'n13'.\n",
      "[INFO] Used '-1' and picked '4' of node 'n15'.\n",
      "[INFO] Used '-1' and picked '8' of node 'n19'.\n",
      "[INFO] Used '1' and picked '10' of node 'n3'.\n"
     ]
    },
    {
     "data": {
      "text/plain": [
       "(10, 'n3')"
      ]
     },
     "execution_count": 7,
     "metadata": {},
     "output_type": "execute_result"
    }
   ],
   "source": [
    "tree.calculate_mmv(print_info=True)"
   ]
  },
  {
   "cell_type": "markdown",
   "metadata": {
    "slideshow": {
     "slide_type": "subslide"
    }
   },
   "source": [
    "![treeB](project_02/pictures/treeB.png)"
   ]
  },
  {
   "cell_type": "markdown",
   "metadata": {
    "slideshow": {
     "slide_type": "fragment"
    }
   },
   "source": [
    "* Update n1 and n3 value\n",
    " * Iterate over sub-nodes"
   ]
  },
  {
   "cell_type": "markdown",
   "metadata": {
    "slideshow": {
     "slide_type": "fragment"
    }
   },
   "source": [
    "* Do the same on sub-nodes"
   ]
  },
  {
   "cell_type": "markdown",
   "metadata": {
    "slideshow": {
     "slide_type": "fragment"
    }
   },
   "source": [
    "* Increases everything"
   ]
  },
  {
   "cell_type": "markdown",
   "metadata": {
    "slideshow": {
     "slide_type": "slide"
    }
   },
   "source": [
    "# 2.3 - MinMax search for Connect4"
   ]
  },
  {
   "cell_type": "markdown",
   "metadata": {
    "slideshow": {
     "slide_type": "subslide"
    }
   },
   "source": [
    "## Get some value"
   ]
  },
  {
   "cell_type": "markdown",
   "metadata": {
    "slideshow": {
     "slide_type": "fragment"
    }
   },
   "source": [
    "* $\n",
    "    value(Token)= \n",
    "\\begin{cases}\n",
    "    10^{|tokens|} + |free|,& \\text{if } |token + free| \\geq 3\\\\\n",
    "    0,              & \\text{otherwise}\n",
    "\\end{cases}\n",
    "$\n",
    " * For each direction"
   ]
  },
  {
   "cell_type": "markdown",
   "metadata": {
    "slideshow": {
     "slide_type": "fragment"
    }
   },
   "source": [
    "* $value(State)=value(Yellow)-value(Red)$"
   ]
  },
  {
   "cell_type": "markdown",
   "metadata": {
    "slideshow": {
     "slide_type": "subslide"
    }
   },
   "source": [
    "![token_calculation](project_02/pictures/token_calculations.png)"
   ]
  },
  {
   "cell_type": "markdown",
   "metadata": {
    "slideshow": {
     "slide_type": "subslide"
    }
   },
   "source": [
    "## Tournament (1k games)"
   ]
  },
  {
   "cell_type": "code",
   "execution_count": 10,
   "metadata": {
    "scrolled": false,
    "slideshow": {
     "slide_type": "skip"
    }
   },
   "outputs": [
    {
     "name": "stdout",
     "output_type": "stream",
     "text": [
      "=== Lap: 0 ===\n",
      "'Y'\t1\n",
      "'R'\t0\n",
      "DRAW\t0\n",
      "=== Lap: 100 ===\n",
      "'Y'\t101\n",
      "'R'\t0\n",
      "DRAW\t0\n",
      "=== Lap: 200 ===\n",
      "'Y'\t201\n",
      "'R'\t0\n",
      "DRAW\t0\n",
      "=== Lap: 300 ===\n",
      "'Y'\t301\n",
      "'R'\t0\n",
      "DRAW\t0\n",
      "=== Lap: 400 ===\n",
      "'Y'\t401\n",
      "'R'\t0\n",
      "DRAW\t0\n",
      "=== Lap: 500 ===\n",
      "'Y'\t501\n",
      "'R'\t0\n",
      "DRAW\t0\n",
      "=== Lap: 600 ===\n",
      "'Y'\t601\n",
      "'R'\t0\n",
      "DRAW\t0\n",
      "=== Lap: 700 ===\n",
      "'Y'\t701\n",
      "'R'\t0\n",
      "DRAW\t0\n",
      "=== Lap: 800 ===\n",
      "'Y'\t801\n",
      "'R'\t0\n",
      "DRAW\t0\n",
      "=== Lap: 900 ===\n",
      "'Y'\t901\n",
      "'R'\t0\n",
      "DRAW\t0\n",
      "Tournament results in: \n",
      "'Y'\t999\n",
      "'R'\t1\n",
      "DRAW\t0\n",
      "CPU times: user 24min 12s, sys: 355 ms, total: 24min 12s\n",
      "Wall time: 24min 12s\n"
     ]
    }
   ],
   "source": [
    "%%time\n",
    "c4.reset_game()\n",
    "tournament_results = c4.play_a_tournament(use_mmv=True)"
   ]
  },
  {
   "cell_type": "code",
   "execution_count": 11,
   "metadata": {
    "slideshow": {
     "slide_type": "fragment"
    }
   },
   "outputs": [
    {
     "data": {
      "image/png": "[encoded data removed]",
      "text/plain": [
       "<Figure size 432x288 with 1 Axes>"
      ]
     },
     "metadata": {},
     "output_type": "display_data"
    }
   ],
   "source": [
    "c4.plot_bar(label=\"MMV vs. E. (1k games)\", statistics=tournament_results)"
   ]
  },
  {
   "cell_type": "markdown",
   "metadata": {
    "slideshow": {
     "slide_type": "slide"
    }
   },
   "source": [
    "# 2.4 - Breakout"
   ]
  },
  {
   "cell_type": "markdown",
   "metadata": {
    "slideshow": {
     "slide_type": "subslide"
    }
   },
   "source": [
    "## Controler\n",
    "* Observe 'Ball'\n",
    " * ```python\n",
    "If ball.center < paddle.x and ball.center > paddle.x + paddle.width:\n",
    "         paddle.move(key_left or key_right)```"
   ]
  },
  {
   "cell_type": "markdown",
   "metadata": {
    "slideshow": {
     "slide_type": "fragment"
    }
   },
   "source": [
    "* Ball outruns paddle \n",
    " * paddle.speed is fixed"
   ]
  },
  {
   "cell_type": "markdown",
   "metadata": {
    "slideshow": {
     "slide_type": "fragment"
    }
   },
   "source": [
    "* Colision checking malfunctions at a to high speed \n",
    " * paddle.speed increases"
   ]
  },
  {
   "cell_type": "markdown",
   "metadata": {
    "slideshow": {
     "slide_type": "slide"
    }
   },
   "source": [
    "# 2.5 - Path planning"
   ]
  },
  {
   "cell_type": "code",
   "execution_count": 1,
   "metadata": {
    "slideshow": {
     "slide_type": "skip"
    }
   },
   "outputs": [],
   "source": [
    "from project_02.mapper import Map\n",
    "\n",
    "m = Map(\"project_02/simpleMap-1-20x20.txt\")"
   ]
  },
  {
   "cell_type": "code",
   "execution_count": 2,
   "metadata": {
    "slideshow": {
     "slide_type": "subslide"
    }
   },
   "outputs": [
    {
     "name": "stdout",
     "output_type": "stream",
     "text": [
      " \u001b[1;37m▮\u001b[0m  \u001b[1;37m▮\u001b[0m  \u001b[1;37m▮\u001b[0m  \u001b[1;37m▮\u001b[0m  \u001b[1;37m▮\u001b[0m  \u001b[1;37m▮\u001b[0m  \u001b[1;37m▮\u001b[0m  \u001b[1;37m▮\u001b[0m  \u001b[1;37m▮\u001b[0m  \u001b[1;37m▮\u001b[0m  \u001b[1;37m▮\u001b[0m  \u001b[1;37m▮\u001b[0m  \u001b[1;37m▮\u001b[0m  \u001b[1;37m▮\u001b[0m  \u001b[1;37m▮\u001b[0m  \u001b[1;37m▮\u001b[0m  \u001b[1;37m▮\u001b[0m  \u001b[1;37m▮\u001b[0m  \u001b[1;37m▮\u001b[0m  \u001b[1;37m▮\u001b[0m \n",
      " \u001b[1;37m▮\u001b[0m  \u001b[1;37m▮\u001b[0m  \u001b[1;37m▮\u001b[0m  \u001b[1;37m▮\u001b[0m  \u001b[1;37m▮\u001b[0m  \u001b[1;37m▮\u001b[0m  \u001b[1;37m▮\u001b[0m  \u001b[1;37m▮\u001b[0m  \u001b[1;37m▮\u001b[0m  \u001b[1;37m▮\u001b[0m  \u001b[1;37m▮\u001b[0m  \u001b[1;37m▮\u001b[0m  \u001b[1;37m▮\u001b[0m  \u001b[1;37m▮\u001b[0m  \u001b[1;37m▮\u001b[0m  \u001b[1;37m▮\u001b[0m  \u001b[1;37m▮\u001b[0m  \u001b[1;37m▮\u001b[0m  \u001b[1;37m▮\u001b[0m  \u001b[1;37m▮\u001b[0m \n",
      " \u001b[1;37m▮\u001b[0m  \u001b[1;37m▮\u001b[0m  \u001b[1;37m▮\u001b[0m  \u001b[1;37m▮\u001b[0m  \u001b[1;37m▮\u001b[0m  \u001b[1;37m▮\u001b[0m  \u001b[1;37m▮\u001b[0m  \u001b[1;37m▮\u001b[0m  \u001b[1;37m▮\u001b[0m  \u001b[1;37m▮\u001b[0m  \u001b[1;37m▮\u001b[0m  \u001b[1;37m▮\u001b[0m  \u001b[1;37m▮\u001b[0m  \u001b[1;37m▮\u001b[0m  \u001b[1;37m▮\u001b[0m  \u001b[1;37m▮\u001b[0m  \u001b[1;37m▮\u001b[0m  \u001b[1;37m▮\u001b[0m  \u001b[1;37m▮\u001b[0m  \u001b[1;37m▮\u001b[0m \n",
      " \u001b[1;37m▮\u001b[0m  \u001b[1;37m▮\u001b[0m  \u001b[1;37m▮\u001b[0m  \u001b[1;37m▮\u001b[0m  \u001b[1;37m▮\u001b[0m  \u001b[1;37m▮\u001b[0m  \u001b[1;37m▮\u001b[0m  \u001b[1;37m▮\u001b[0m  \u001b[1;37m▮\u001b[0m  \u001b[1;37m▮\u001b[0m  \u001b[1;37m▮\u001b[0m  \u001b[1;37m▮\u001b[0m  \u001b[1;37m▮\u001b[0m  \u001b[1;37m▮\u001b[0m  \u001b[1;37m▮\u001b[0m  \u001b[1;37m▮\u001b[0m  \u001b[1;37m▮\u001b[0m  \u001b[1;37m▮\u001b[0m  \u001b[1;37m▮\u001b[0m  \u001b[1;37m▮\u001b[0m \n",
      " \u001b[1;37m▮\u001b[0m  \u001b[1;37m▮\u001b[0m  \u001b[1;37m▮\u001b[0m  \u001b[1;37m▮\u001b[0m  \u001b[1;37m▮\u001b[0m  \u001b[1;37m▮\u001b[0m  \u001b[1;37m▮\u001b[0m  \u001b[1;37m▮\u001b[0m  \u001b[1;37m▮\u001b[0m  \u001b[1;37m▮\u001b[0m  \u001b[1;37m▮\u001b[0m  \u001b[1;37m▮\u001b[0m  \u001b[1;37m▮\u001b[0m  \u001b[1;37m▮\u001b[0m  \u001b[1;37m▮\u001b[0m  \u001b[1;37m▮\u001b[0m  \u001b[1;37m▮\u001b[0m  \u001b[1;37m▮\u001b[0m  \u001b[1;37m▮\u001b[0m  \u001b[1;37m▮\u001b[0m \n",
      " \u001b[1;37m▮\u001b[0m  \u001b[1;37m▮\u001b[0m  \u001b[1;37m▮\u001b[0m  \u001b[1;37m▮\u001b[0m  \u001b[1;37m▮\u001b[0m  \u001b[1;37m▮\u001b[0m  \u001b[1;37m▮\u001b[0m  \u001b[1;37m▮\u001b[0m  \u001b[1;37m▮\u001b[0m  \u001b[1;37m▮\u001b[0m  \u001b[1;37m▮\u001b[0m  \u001b[1;37m▮\u001b[0m  \u001b[1;37m▮\u001b[0m  \u001b[1;37m▮\u001b[0m  \u001b[1;37m▮\u001b[0m  \u001b[1;37m▮\u001b[0m  \u001b[1;37m▮\u001b[0m  \u001b[1;37m▮\u001b[0m  \u001b[1;37m▮\u001b[0m  \u001b[1;37m▮\u001b[0m \n",
      " \u001b[1;37m▮\u001b[0m  \u001b[1;37m▮\u001b[0m  \u001b[1;37m▮\u001b[0m  \u001b[1;37m▮\u001b[0m  \u001b[1;37m▮\u001b[0m  \u001b[1;37m▮\u001b[0m  \u001b[1;37m▮\u001b[0m  \u001b[1;37m▮\u001b[0m  \u001b[1;37m▮\u001b[0m  \u001b[1;37m▮\u001b[0m  \u001b[1;37m▮\u001b[0m  \u001b[1;37m▮\u001b[0m  \u001b[1;37m▮\u001b[0m  \u001b[1;37m▮\u001b[0m  \u001b[1;37m▮\u001b[0m  \u001b[1;37m▮\u001b[0m  \u001b[1;37m▮\u001b[0m  \u001b[1;37m▮\u001b[0m  \u001b[1;37m▮\u001b[0m  \u001b[1;37m▮\u001b[0m \n",
      " \u001b[1;37m▮\u001b[0m  \u001b[1;37m▮\u001b[0m  \u001b[1;37m▮\u001b[0m  \u001b[1;37m▮\u001b[0m  \u001b[1;37m▮\u001b[0m  \u001b[1;37m▮\u001b[0m  \u001b[1;37m▮\u001b[0m  \u001b[1;37m▮\u001b[0m  \u001b[1;37m▮\u001b[0m  \u001b[1;37m▮\u001b[0m  \u001b[1;37m▮\u001b[0m  \u001b[1;37m▮\u001b[0m  \u001b[1;37m▮\u001b[0m  \u001b[1;37m▮\u001b[0m  \u001b[1;37m▮\u001b[0m  \u001b[1;37m▮\u001b[0m  \u001b[1;37m▮\u001b[0m  \u001b[1;37m▮\u001b[0m  \u001b[1;37m▮\u001b[0m  \u001b[1;37m▮\u001b[0m \n",
      " \u001b[1;37m▮\u001b[0m  \u001b[1;37m▮\u001b[0m  \u001b[1;37m▮\u001b[0m  \u001b[1;37m▮\u001b[0m  \u001b[1;37m▮\u001b[0m  \u001b[1;37m▮\u001b[0m  \u001b[1;37m▮\u001b[0m  \u001b[1;37m▮\u001b[0m  \u001b[1;37m▮\u001b[0m  \u001b[1;37m▮\u001b[0m  \u001b[1;37m▮\u001b[0m  \u001b[1;37m▮\u001b[0m  ▮  ▮  ▮  ▮  ▮  \u001b[1;37m▮\u001b[0m  \u001b[1;37m▮\u001b[0m  \u001b[1;37m▮\u001b[0m \n",
      " \u001b[1;37m▮\u001b[0m  \u001b[1;37m▮\u001b[0m  \u001b[1;37m▮\u001b[0m  \u001b[1;37m▮\u001b[0m  \u001b[1;37m▮\u001b[0m  \u001b[1;37m▮\u001b[0m  \u001b[1;37m▮\u001b[0m  \u001b[1;37m▮\u001b[0m  \u001b[1;37m▮\u001b[0m  \u001b[1;37m▮\u001b[0m  \u001b[1;37m▮\u001b[0m  \u001b[1;37m▮\u001b[0m  ▮  \u001b[1;37m▮\u001b[0m  \u001b[1;37m▮\u001b[0m  \u001b[1;37m▮\u001b[0m  \u001b[1;37m▮\u001b[0m  \u001b[1;37m▮\u001b[0m  \u001b[1;37m▮\u001b[0m  \u001b[1;37m▮\u001b[0m \n",
      " \u001b[1;37m▮\u001b[0m  \u001b[1;37m▮\u001b[0m  \u001b[1;37m▮\u001b[0m  \u001b[1;37m▮\u001b[0m  \u001b[1;37m▮\u001b[0m  \u001b[1;37m▮\u001b[0m  \u001b[1;37m▮\u001b[0m  \u001b[1;37m▮\u001b[0m  \u001b[1;37m▮\u001b[0m  \u001b[1;37m▮\u001b[0m  \u001b[1;37m▮\u001b[0m  \u001b[1;37m▮\u001b[0m  ▮  \u001b[1;37m▮\u001b[0m  \u001b[1;37m▮\u001b[0m  \u001b[1;37m▮\u001b[0m  \u001b[1;37m▮\u001b[0m  \u001b[1;37m▮\u001b[0m  \u001b[1;37m▮\u001b[0m  \u001b[1;37m▮\u001b[0m \n",
      " \u001b[1;37m▮\u001b[0m  \u001b[1;37m▮\u001b[0m  \u001b[1;37m▮\u001b[0m  \u001b[1;37m▮\u001b[0m  \u001b[1;37m▮\u001b[0m  \u001b[1;37m▮\u001b[0m  \u001b[1;37m▮\u001b[0m  \u001b[1;37m▮\u001b[0m  \u001b[1;37m▮\u001b[0m  \u001b[1;37m▮\u001b[0m  \u001b[1;37m▮\u001b[0m  \u001b[1;37m▮\u001b[0m  ▮  \u001b[1;37m▮\u001b[0m  \u001b[1;37m▮\u001b[0m  \u001b[1;37m▮\u001b[0m  \u001b[1;37m▮\u001b[0m  \u001b[1;37m▮\u001b[0m  \u001b[1;37m▮\u001b[0m  \u001b[1;37m▮\u001b[0m \n",
      " \u001b[1;37m▮\u001b[0m  \u001b[1;37m▮\u001b[0m  \u001b[1;37m▮\u001b[0m  \u001b[1;37m▮\u001b[0m  \u001b[1;37m▮\u001b[0m  \u001b[1;37m▮\u001b[0m  \u001b[1;37m▮\u001b[0m  \u001b[1;37m▮\u001b[0m  ▮  \u001b[1;37m▮\u001b[0m  \u001b[1;37m▮\u001b[0m  \u001b[1;37m▮\u001b[0m  ▮  \u001b[1;37m▮\u001b[0m  \u001b[1;37m▮\u001b[0m  \u001b[1;37m▮\u001b[0m  \u001b[1;37m▮\u001b[0m  \u001b[1;37m▮\u001b[0m  \u001b[1;37m▮\u001b[0m  \u001b[1;37m▮\u001b[0m \n",
      " \u001b[1;37m▮\u001b[0m  \u001b[1;37m▮\u001b[0m  \u001b[1;37m▮\u001b[0m  \u001b[1;37m▮\u001b[0m  \u001b[1;37m▮\u001b[0m  \u001b[1;37m▮\u001b[0m  \u001b[1;37m▮\u001b[0m  \u001b[1;37m▮\u001b[0m  ▮  \u001b[1;37m▮\u001b[0m  \u001b[1;37m▮\u001b[0m  \u001b[1;37m▮\u001b[0m  ▮  \u001b[1;37m▮\u001b[0m  \u001b[1;37m▮\u001b[0m  \u001b[1;37m▮\u001b[0m  \u001b[1;37m▮\u001b[0m  \u001b[1;37m▮\u001b[0m  \u001b[1;37m▮\u001b[0m  \u001b[1;37m▮\u001b[0m \n",
      " \u001b[1;37m▮\u001b[0m  \u001b[1;37m▮\u001b[0m  \u001b[1;37m▮\u001b[0m  \u001b[1;37m▮\u001b[0m  \u001b[1;37m▮\u001b[0m  \u001b[1;37m▮\u001b[0m  \u001b[1;37m▮\u001b[0m  \u001b[1;37m▮\u001b[0m  ▮  \u001b[1;37m▮\u001b[0m  \u001b[1;37m▮\u001b[0m  \u001b[1;37m▮\u001b[0m  ▮  \u001b[1;37m▮\u001b[0m  \u001b[1;37m▮\u001b[0m  \u001b[1;37m▮\u001b[0m  \u001b[1;37m▮\u001b[0m  \u001b[1;37m▮\u001b[0m  \u001b[1;37m▮\u001b[0m  \u001b[1;37m▮\u001b[0m \n",
      " \u001b[1;37m▮\u001b[0m  \u001b[1;37m▮\u001b[0m  \u001b[1;37m▮\u001b[0m  \u001b[1;37m▮\u001b[0m  \u001b[1;37m▮\u001b[0m  \u001b[1;37m▮\u001b[0m  \u001b[1;37m▮\u001b[0m  \u001b[1;37m▮\u001b[0m  ▮  ▮  ▮  ▮  ▮  \u001b[1;37m▮\u001b[0m  \u001b[1;37m▮\u001b[0m  \u001b[1;37m▮\u001b[0m  \u001b[1;37m▮\u001b[0m  \u001b[1;37m▮\u001b[0m  \u001b[1;37m▮\u001b[0m  \u001b[1;37m▮\u001b[0m \n",
      " \u001b[1;37m▮\u001b[0m  \u001b[1;37m▮\u001b[0m  \u001b[1;37m▮\u001b[0m  \u001b[1;37m▮\u001b[0m  \u001b[1;37m▮\u001b[0m  \u001b[1;37m▮\u001b[0m  \u001b[1;37m▮\u001b[0m  \u001b[1;37m▮\u001b[0m  ▮  \u001b[1;37m▮\u001b[0m  \u001b[1;37m▮\u001b[0m  \u001b[1;37m▮\u001b[0m  \u001b[1;37m▮\u001b[0m  \u001b[1;37m▮\u001b[0m  \u001b[1;37m▮\u001b[0m  \u001b[1;37m▮\u001b[0m  \u001b[1;37m▮\u001b[0m  \u001b[1;37m▮\u001b[0m  \u001b[1;37m▮\u001b[0m  \u001b[1;37m▮\u001b[0m \n",
      " \u001b[1;37m▮\u001b[0m  \u001b[1;37m▮\u001b[0m  \u001b[1;37m▮\u001b[0m  \u001b[1;37m▮\u001b[0m  \u001b[1;37m▮\u001b[0m  \u001b[1;37m▮\u001b[0m  \u001b[1;37m▮\u001b[0m  \u001b[1;37m▮\u001b[0m  \u001b[1;37m▮\u001b[0m  \u001b[1;37m▮\u001b[0m  \u001b[1;37m▮\u001b[0m  \u001b[1;37m▮\u001b[0m  \u001b[1;37m▮\u001b[0m  \u001b[1;37m▮\u001b[0m  \u001b[1;37m▮\u001b[0m  \u001b[1;37m▮\u001b[0m  \u001b[1;37m▮\u001b[0m  \u001b[1;37m▮\u001b[0m  \u001b[1;37m▮\u001b[0m  \u001b[1;37m▮\u001b[0m \n",
      " \u001b[1;37m▮\u001b[0m  \u001b[1;37m▮\u001b[0m  \u001b[1;37m▮\u001b[0m  \u001b[1;37m▮\u001b[0m  \u001b[1;37m▮\u001b[0m  \u001b[1;37m▮\u001b[0m  \u001b[1;37m▮\u001b[0m  \u001b[1;37m▮\u001b[0m  \u001b[1;37m▮\u001b[0m  \u001b[1;37m▮\u001b[0m  \u001b[1;37m▮\u001b[0m  \u001b[1;37m▮\u001b[0m  \u001b[1;37m▮\u001b[0m  \u001b[1;37m▮\u001b[0m  \u001b[1;37m▮\u001b[0m  \u001b[1;37m▮\u001b[0m  \u001b[1;37m▮\u001b[0m  \u001b[1;37m▮\u001b[0m  \u001b[1;37m▮\u001b[0m  \u001b[1;37m▮\u001b[0m \n",
      " \u001b[1;37m▮\u001b[0m  \u001b[1;37m▮\u001b[0m  \u001b[1;37m▮\u001b[0m  \u001b[1;37m▮\u001b[0m  \u001b[1;37m▮\u001b[0m  \u001b[1;37m▮\u001b[0m  \u001b[1;37m▮\u001b[0m  \u001b[1;37m▮\u001b[0m  \u001b[1;37m▮\u001b[0m  \u001b[1;37m▮\u001b[0m  \u001b[1;37m▮\u001b[0m  \u001b[1;37m▮\u001b[0m  \u001b[1;37m▮\u001b[0m  \u001b[1;37m▮\u001b[0m  \u001b[1;37m▮\u001b[0m  \u001b[1;37m▮\u001b[0m  \u001b[1;37m▮\u001b[0m  \u001b[1;37m▮\u001b[0m  \u001b[1;37m▮\u001b[0m  \u001b[1;37m▮\u001b[0m \n"
     ]
    }
   ],
   "source": [
    "m.print_map()"
   ]
  },
  {
   "cell_type": "code",
   "execution_count": 4,
   "metadata": {
    "scrolled": true,
    "slideshow": {
     "slide_type": "subslide"
    }
   },
   "outputs": [
    {
     "name": "stdout",
     "output_type": "stream",
     "text": [
      " \u001b[1;35mV\u001b[0m  \u001b[1;35mV\u001b[0m  \u001b[1;35mV\u001b[0m  \u001b[1;35mV\u001b[0m  \u001b[1;35mV\u001b[0m  \u001b[1;35mV\u001b[0m  \u001b[1;35mV\u001b[0m  \u001b[1;35mV\u001b[0m  \u001b[1;35mV\u001b[0m  \u001b[1;35mV\u001b[0m  \u001b[1;35mV\u001b[0m  \u001b[1;35mV\u001b[0m  \u001b[1;35mV\u001b[0m  \u001b[1;35mV\u001b[0m  \u001b[1;35mV\u001b[0m  \u001b[1;35mV\u001b[0m  \u001b[1;37m▮\u001b[0m  \u001b[1;37m▮\u001b[0m  \u001b[1;37m▮\u001b[0m  \u001b[1;37m▮\u001b[0m \n",
      " \u001b[1;35mV\u001b[0m  \u001b[1;35mV\u001b[0m  \u001b[1;35mV\u001b[0m  \u001b[1;35mV\u001b[0m  \u001b[1;35mV\u001b[0m  \u001b[1;35mV\u001b[0m  \u001b[1;35mV\u001b[0m  \u001b[1;35mV\u001b[0m  \u001b[1;35mV\u001b[0m  \u001b[1;35mV\u001b[0m  \u001b[1;35mV\u001b[0m  \u001b[1;35mV\u001b[0m  \u001b[1;35mV\u001b[0m  \u001b[1;35mV\u001b[0m  \u001b[1;35mV\u001b[0m  \u001b[1;35mV\u001b[0m  \u001b[1;35mV\u001b[0m  \u001b[1;37m▮\u001b[0m  \u001b[1;37m▮\u001b[0m  \u001b[1;37m▮\u001b[0m \n",
      " \u001b[1;35mV\u001b[0m  \u001b[1;35mV\u001b[0m  \u001b[1;35mV\u001b[0m  \u001b[1;35mV\u001b[0m  \u001b[1;35mV\u001b[0m  \u001b[1;35mV\u001b[0m  \u001b[1;35mV\u001b[0m  \u001b[1;35mV\u001b[0m  \u001b[1;35mV\u001b[0m  \u001b[1;35mV\u001b[0m  \u001b[1;35mV\u001b[0m  \u001b[1;35mV\u001b[0m  \u001b[1;35mV\u001b[0m  \u001b[1;35mV\u001b[0m  \u001b[1;35mV\u001b[0m  \u001b[1;35mV\u001b[0m  \u001b[1;35mV\u001b[0m  \u001b[1;35mV\u001b[0m  \u001b[1;37m▮\u001b[0m  \u001b[1;37m▮\u001b[0m \n",
      " \u001b[1;35mV\u001b[0m  \u001b[1;35mV\u001b[0m  \u001b[1;35mV\u001b[0m  \u001b[1;35mV\u001b[0m  \u001b[1;35mV\u001b[0m  \u001b[1;35mV\u001b[0m  \u001b[1;35mV\u001b[0m  \u001b[1;35mV\u001b[0m  \u001b[1;35mV\u001b[0m  \u001b[1;35mV\u001b[0m  \u001b[1;35mV\u001b[0m  \u001b[1;35mV\u001b[0m  \u001b[1;35mV\u001b[0m  \u001b[1;35mV\u001b[0m  \u001b[1;35mV\u001b[0m  \u001b[1;35mV\u001b[0m  \u001b[1;35mV\u001b[0m  \u001b[1;35mV\u001b[0m  \u001b[1;35mV\u001b[0m  \u001b[1;37m▮\u001b[0m \n",
      " \u001b[1;35mV\u001b[0m  \u001b[1;35mV\u001b[0m  \u001b[1;35mV\u001b[0m  \u001b[1;35mV\u001b[0m  \u001b[1;35mV\u001b[0m  \u001b[1;35mV\u001b[0m  \u001b[1;35mV\u001b[0m  \u001b[1;35mV\u001b[0m  \u001b[1;35mV\u001b[0m  \u001b[1;35mV\u001b[0m  \u001b[1;35mV\u001b[0m  \u001b[1;35mV\u001b[0m  \u001b[1;35mV\u001b[0m  \u001b[1;35mV\u001b[0m  \u001b[1;35mV\u001b[0m  \u001b[1;35mV\u001b[0m  \u001b[1;35mV\u001b[0m  \u001b[1;35mV\u001b[0m  \u001b[1;35mV\u001b[0m  \u001b[1;35mV\u001b[0m \n",
      " \u001b[1;35mV\u001b[0m  \u001b[1;35mV\u001b[0m  \u001b[1;35mV\u001b[0m  \u001b[1;35mV\u001b[0m  \u001b[1;35mV\u001b[0m  \u001b[1;35mV\u001b[0m  \u001b[1;35mV\u001b[0m  \u001b[1;35mV\u001b[0m  \u001b[1;35mV\u001b[0m  \u001b[1;35mV\u001b[0m  \u001b[1;35mV\u001b[0m  \u001b[1;35mV\u001b[0m  \u001b[1;35mV\u001b[0m  \u001b[1;35mV\u001b[0m  \u001b[1;35mV\u001b[0m  \u001b[1;35mV\u001b[0m  \u001b[1;35mV\u001b[0m  \u001b[1;35mV\u001b[0m  \u001b[1;35mV\u001b[0m  \u001b[1;35mV\u001b[0m \n",
      " \u001b[1;35mV\u001b[0m  \u001b[1;35mV\u001b[0m  \u001b[1;35mV\u001b[0m  \u001b[1;35mV\u001b[0m  \u001b[1;35mV\u001b[0m  \u001b[1;35mV\u001b[0m  \u001b[1;35mV\u001b[0m  \u001b[1;35mV\u001b[0m  \u001b[1;35mV\u001b[0m  \u001b[1;35mV\u001b[0m  \u001b[1;35mV\u001b[0m  \u001b[1;35mV\u001b[0m  \u001b[1;35mV\u001b[0m  \u001b[1;35mV\u001b[0m  \u001b[1;35mV\u001b[0m  \u001b[1;35mV\u001b[0m  \u001b[1;35mV\u001b[0m  \u001b[1;35mV\u001b[0m  \u001b[1;35mV\u001b[0m  \u001b[1;35mV\u001b[0m \n",
      " \u001b[1;35mV\u001b[0m  \u001b[1;35mV\u001b[0m  \u001b[1;35mV\u001b[0m  \u001b[1;35mV\u001b[0m  \u001b[1;35mV\u001b[0m  \u001b[1;35mV\u001b[0m  \u001b[1;35mV\u001b[0m  \u001b[1;35mV\u001b[0m  \u001b[1;35mV\u001b[0m  \u001b[1;35mV\u001b[0m  \u001b[1;35mV\u001b[0m  \u001b[1;35mV\u001b[0m  \u001b[1;35mV\u001b[0m  \u001b[1;35mV\u001b[0m  \u001b[1;35mV\u001b[0m  \u001b[1;35mV\u001b[0m  \u001b[1;35mV\u001b[0m  \u001b[1;35mV\u001b[0m  \u001b[1;35mV\u001b[0m  \u001b[1;35mV\u001b[0m \n",
      " \u001b[1;35mV\u001b[0m  \u001b[1;35mV\u001b[0m  \u001b[1;35mV\u001b[0m  \u001b[1;35mV\u001b[0m  \u001b[1;35mV\u001b[0m  \u001b[1;35mV\u001b[0m  \u001b[1;35mV\u001b[0m  \u001b[1;35mV\u001b[0m  \u001b[1;35mV\u001b[0m  \u001b[1;35mV\u001b[0m  \u001b[1;35mV\u001b[0m  \u001b[1;35mV\u001b[0m  ▮  ▮  ▮  ▮  ▮  \u001b[1;35mV\u001b[0m  \u001b[1;35mV\u001b[0m  \u001b[1;35mV\u001b[0m \n",
      " \u001b[1;31m▮\u001b[0m  \u001b[1;34m▮\u001b[0m  \u001b[1;34m▮\u001b[0m  \u001b[1;34m▮\u001b[0m  \u001b[1;34m▮\u001b[0m  \u001b[1;34m▮\u001b[0m  \u001b[1;34m▮\u001b[0m  \u001b[1;34m▮\u001b[0m  \u001b[1;35mV\u001b[0m  \u001b[1;35mV\u001b[0m  \u001b[1;35mV\u001b[0m  \u001b[1;35mV\u001b[0m  ▮  \u001b[1;37m▮\u001b[0m  \u001b[1;35mV\u001b[0m  \u001b[1;35mV\u001b[0m  \u001b[1;35mV\u001b[0m  \u001b[1;35mV\u001b[0m  \u001b[1;35mV\u001b[0m  \u001b[1;35mV\u001b[0m \n",
      " \u001b[1;35mV\u001b[0m  \u001b[1;35mV\u001b[0m  \u001b[1;35mV\u001b[0m  \u001b[1;35mV\u001b[0m  \u001b[1;35mV\u001b[0m  \u001b[1;35mV\u001b[0m  \u001b[1;35mV\u001b[0m  \u001b[1;34m▮\u001b[0m  \u001b[1;35mV\u001b[0m  \u001b[1;35mV\u001b[0m  \u001b[1;35mV\u001b[0m  \u001b[1;35mV\u001b[0m  ▮  \u001b[1;37m▮\u001b[0m  \u001b[1;37m▮\u001b[0m  \u001b[1;35mV\u001b[0m  \u001b[1;35mV\u001b[0m  \u001b[1;35mV\u001b[0m  \u001b[1;35mV\u001b[0m  \u001b[1;35mV\u001b[0m \n",
      " \u001b[1;35mV\u001b[0m  \u001b[1;35mV\u001b[0m  \u001b[1;35mV\u001b[0m  \u001b[1;35mV\u001b[0m  \u001b[1;35mV\u001b[0m  \u001b[1;35mV\u001b[0m  \u001b[1;35mV\u001b[0m  \u001b[1;34m▮\u001b[0m  \u001b[1;35mV\u001b[0m  \u001b[1;35mV\u001b[0m  \u001b[1;35mV\u001b[0m  \u001b[1;35mV\u001b[0m  ▮  \u001b[1;37m▮\u001b[0m  \u001b[1;37m▮\u001b[0m  \u001b[1;37m▮\u001b[0m  \u001b[1;35mV\u001b[0m  \u001b[1;35mV\u001b[0m  \u001b[1;35mV\u001b[0m  \u001b[1;37m▮\u001b[0m \n",
      " \u001b[1;35mV\u001b[0m  \u001b[1;35mV\u001b[0m  \u001b[1;35mV\u001b[0m  \u001b[1;35mV\u001b[0m  \u001b[1;35mV\u001b[0m  \u001b[1;35mV\u001b[0m  \u001b[1;35mV\u001b[0m  \u001b[1;34m▮\u001b[0m  ▮  \u001b[1;35mV\u001b[0m  \u001b[1;35mV\u001b[0m  \u001b[1;35mV\u001b[0m  ▮  \u001b[1;37m▮\u001b[0m  \u001b[1;37m▮\u001b[0m  \u001b[1;37m▮\u001b[0m  \u001b[1;37m▮\u001b[0m  \u001b[1;35mV\u001b[0m  \u001b[1;37m▮\u001b[0m  \u001b[1;37m▮\u001b[0m \n",
      " \u001b[1;35mV\u001b[0m  \u001b[1;35mV\u001b[0m  \u001b[1;35mV\u001b[0m  \u001b[1;35mV\u001b[0m  \u001b[1;35mV\u001b[0m  \u001b[1;35mV\u001b[0m  \u001b[1;35mV\u001b[0m  \u001b[1;34m▮\u001b[0m  ▮  \u001b[1;35mV\u001b[0m  \u001b[1;35mV\u001b[0m  \u001b[1;35mV\u001b[0m  ▮  \u001b[1;37m▮\u001b[0m  \u001b[1;37m▮\u001b[0m  \u001b[1;37m▮\u001b[0m  \u001b[1;37m▮\u001b[0m  \u001b[1;37m▮\u001b[0m  \u001b[1;37m▮\u001b[0m  \u001b[1;37m▮\u001b[0m \n",
      " \u001b[1;35mV\u001b[0m  \u001b[1;35mV\u001b[0m  \u001b[1;35mV\u001b[0m  \u001b[1;35mV\u001b[0m  \u001b[1;35mV\u001b[0m  \u001b[1;35mV\u001b[0m  \u001b[1;35mV\u001b[0m  \u001b[1;34m▮\u001b[0m  ▮  \u001b[1;35mV\u001b[0m  \u001b[1;35mV\u001b[0m  \u001b[1;35mV\u001b[0m  ▮  \u001b[1;35mV\u001b[0m  \u001b[1;37m▮\u001b[0m  \u001b[1;37m▮\u001b[0m  \u001b[1;37m▮\u001b[0m  \u001b[1;37m▮\u001b[0m  \u001b[1;37m▮\u001b[0m  \u001b[1;37m▮\u001b[0m \n",
      " \u001b[1;35mV\u001b[0m  \u001b[1;35mV\u001b[0m  \u001b[1;35mV\u001b[0m  \u001b[1;35mV\u001b[0m  \u001b[1;35mV\u001b[0m  \u001b[1;35mV\u001b[0m  \u001b[1;35mV\u001b[0m  \u001b[1;34m▮\u001b[0m  ▮  ▮  ▮  ▮  ▮  \u001b[1;35mV\u001b[0m  \u001b[1;35mV\u001b[0m  \u001b[1;37m▮\u001b[0m  \u001b[1;37m▮\u001b[0m  \u001b[1;37m▮\u001b[0m  \u001b[1;37m▮\u001b[0m  \u001b[1;37m▮\u001b[0m \n",
      " \u001b[1;35mV\u001b[0m  \u001b[1;35mV\u001b[0m  \u001b[1;35mV\u001b[0m  \u001b[1;35mV\u001b[0m  \u001b[1;35mV\u001b[0m  \u001b[1;35mV\u001b[0m  \u001b[1;35mV\u001b[0m  \u001b[1;34m▮\u001b[0m  ▮  \u001b[1;35mV\u001b[0m  \u001b[1;35mV\u001b[0m  \u001b[1;35mV\u001b[0m  \u001b[1;35mV\u001b[0m  \u001b[1;35mV\u001b[0m  \u001b[1;35mV\u001b[0m  \u001b[1;35mV\u001b[0m  \u001b[1;37m▮\u001b[0m  \u001b[1;37m▮\u001b[0m  \u001b[1;37m▮\u001b[0m  \u001b[1;37m▮\u001b[0m \n",
      " \u001b[1;35mV\u001b[0m  \u001b[1;35mV\u001b[0m  \u001b[1;35mV\u001b[0m  \u001b[1;35mV\u001b[0m  \u001b[1;35mV\u001b[0m  \u001b[1;35mV\u001b[0m  \u001b[1;35mV\u001b[0m  \u001b[1;34m▮\u001b[0m  \u001b[1;34m▮\u001b[0m  \u001b[1;34m▮\u001b[0m  \u001b[1;34m▮\u001b[0m  \u001b[1;34m▮\u001b[0m  \u001b[1;34m▮\u001b[0m  \u001b[1;34m▮\u001b[0m  \u001b[1;34m▮\u001b[0m  \u001b[1;34m▮\u001b[0m  \u001b[1;35mV\u001b[0m  \u001b[1;37m▮\u001b[0m  \u001b[1;37m▮\u001b[0m  \u001b[1;37m▮\u001b[0m \n",
      " \u001b[1;35mV\u001b[0m  \u001b[1;35mV\u001b[0m  \u001b[1;35mV\u001b[0m  \u001b[1;35mV\u001b[0m  \u001b[1;35mV\u001b[0m  \u001b[1;35mV\u001b[0m  \u001b[1;35mV\u001b[0m  \u001b[1;35mV\u001b[0m  \u001b[1;35mV\u001b[0m  \u001b[1;35mV\u001b[0m  \u001b[1;35mV\u001b[0m  \u001b[1;35mV\u001b[0m  \u001b[1;35mV\u001b[0m  \u001b[1;35mV\u001b[0m  \u001b[1;35mV\u001b[0m  \u001b[1;32m▮\u001b[0m  \u001b[1;37m▮\u001b[0m  \u001b[1;37m▮\u001b[0m  \u001b[1;37m▮\u001b[0m  \u001b[1;37m▮\u001b[0m \n",
      " \u001b[1;35mV\u001b[0m  \u001b[1;35mV\u001b[0m  \u001b[1;35mV\u001b[0m  \u001b[1;35mV\u001b[0m  \u001b[1;35mV\u001b[0m  \u001b[1;35mV\u001b[0m  \u001b[1;35mV\u001b[0m  \u001b[1;35mV\u001b[0m  \u001b[1;35mV\u001b[0m  \u001b[1;35mV\u001b[0m  \u001b[1;35mV\u001b[0m  \u001b[1;35mV\u001b[0m  \u001b[1;35mV\u001b[0m  \u001b[1;35mV\u001b[0m  \u001b[1;37m▮\u001b[0m  \u001b[1;37m▮\u001b[0m  \u001b[1;37m▮\u001b[0m  \u001b[1;37m▮\u001b[0m  \u001b[1;37m▮\u001b[0m  \u001b[1;37m▮\u001b[0m \n"
     ]
    }
   ],
   "source": [
    "path = m.get_dijkstra_path((0,10), (15,1), use_nx=False, symbol_print=False)"
   ]
  },
  {
   "cell_type": "code",
   "execution_count": 5,
   "metadata": {
    "slideshow": {
     "slide_type": "subslide"
    }
   },
   "outputs": [
    {
     "name": "stdout",
     "output_type": "stream",
     "text": [
      " \u001b[1;37m▮\u001b[0m  \u001b[1;37m▮\u001b[0m  \u001b[1;37m▮\u001b[0m  \u001b[1;37m▮\u001b[0m  \u001b[1;37m▮\u001b[0m  \u001b[1;37m▮\u001b[0m  \u001b[1;37m▮\u001b[0m  \u001b[1;37m▮\u001b[0m  \u001b[1;37m▮\u001b[0m  \u001b[1;37m▮\u001b[0m  \u001b[1;37m▮\u001b[0m  \u001b[1;37m▮\u001b[0m  \u001b[1;37m▮\u001b[0m  \u001b[1;37m▮\u001b[0m  \u001b[1;37m▮\u001b[0m  \u001b[1;37m▮\u001b[0m  \u001b[1;37m▮\u001b[0m  \u001b[1;37m▮\u001b[0m  \u001b[1;37m▮\u001b[0m  \u001b[1;37m▮\u001b[0m \n",
      " \u001b[1;37m▮\u001b[0m  \u001b[1;37m▮\u001b[0m  \u001b[1;37m▮\u001b[0m  \u001b[1;37m▮\u001b[0m  \u001b[1;37m▮\u001b[0m  \u001b[1;37m▮\u001b[0m  \u001b[1;37m▮\u001b[0m  \u001b[1;37m▮\u001b[0m  \u001b[1;37m▮\u001b[0m  \u001b[1;37m▮\u001b[0m  \u001b[1;37m▮\u001b[0m  \u001b[1;37m▮\u001b[0m  \u001b[1;37m▮\u001b[0m  \u001b[1;37m▮\u001b[0m  \u001b[1;37m▮\u001b[0m  \u001b[1;37m▮\u001b[0m  \u001b[1;37m▮\u001b[0m  \u001b[1;37m▮\u001b[0m  \u001b[1;37m▮\u001b[0m  \u001b[1;37m▮\u001b[0m \n",
      " \u001b[1;37m▮\u001b[0m  \u001b[1;37m▮\u001b[0m  \u001b[1;37m▮\u001b[0m  \u001b[1;37m▮\u001b[0m  \u001b[1;37m▮\u001b[0m  \u001b[1;37m▮\u001b[0m  \u001b[1;37m▮\u001b[0m  \u001b[1;37m▮\u001b[0m  \u001b[1;37m▮\u001b[0m  \u001b[1;37m▮\u001b[0m  \u001b[1;37m▮\u001b[0m  \u001b[1;37m▮\u001b[0m  \u001b[1;37m▮\u001b[0m  \u001b[1;37m▮\u001b[0m  \u001b[1;37m▮\u001b[0m  \u001b[1;37m▮\u001b[0m  \u001b[1;37m▮\u001b[0m  \u001b[1;37m▮\u001b[0m  \u001b[1;37m▮\u001b[0m  \u001b[1;37m▮\u001b[0m \n",
      " \u001b[1;37m▮\u001b[0m  \u001b[1;37m▮\u001b[0m  \u001b[1;37m▮\u001b[0m  \u001b[1;37m▮\u001b[0m  \u001b[1;37m▮\u001b[0m  \u001b[1;37m▮\u001b[0m  \u001b[1;37m▮\u001b[0m  \u001b[1;37m▮\u001b[0m  \u001b[1;37m▮\u001b[0m  \u001b[1;37m▮\u001b[0m  \u001b[1;37m▮\u001b[0m  \u001b[1;37m▮\u001b[0m  \u001b[1;37m▮\u001b[0m  \u001b[1;37m▮\u001b[0m  \u001b[1;37m▮\u001b[0m  \u001b[1;37m▮\u001b[0m  \u001b[1;37m▮\u001b[0m  \u001b[1;37m▮\u001b[0m  \u001b[1;37m▮\u001b[0m  \u001b[1;37m▮\u001b[0m \n",
      " \u001b[1;37m▮\u001b[0m  \u001b[1;37m▮\u001b[0m  \u001b[1;37m▮\u001b[0m  \u001b[1;37m▮\u001b[0m  \u001b[1;37m▮\u001b[0m  \u001b[1;37m▮\u001b[0m  \u001b[1;37m▮\u001b[0m  \u001b[1;37m▮\u001b[0m  \u001b[1;37m▮\u001b[0m  \u001b[1;37m▮\u001b[0m  \u001b[1;37m▮\u001b[0m  \u001b[1;37m▮\u001b[0m  \u001b[1;37m▮\u001b[0m  \u001b[1;37m▮\u001b[0m  \u001b[1;37m▮\u001b[0m  \u001b[1;37m▮\u001b[0m  \u001b[1;37m▮\u001b[0m  \u001b[1;37m▮\u001b[0m  \u001b[1;37m▮\u001b[0m  \u001b[1;37m▮\u001b[0m \n",
      " \u001b[1;35mV\u001b[0m  \u001b[1;37m▮\u001b[0m  \u001b[1;37m▮\u001b[0m  \u001b[1;37m▮\u001b[0m  \u001b[1;37m▮\u001b[0m  \u001b[1;37m▮\u001b[0m  \u001b[1;37m▮\u001b[0m  \u001b[1;37m▮\u001b[0m  \u001b[1;37m▮\u001b[0m  \u001b[1;37m▮\u001b[0m  \u001b[1;37m▮\u001b[0m  \u001b[1;37m▮\u001b[0m  \u001b[1;37m▮\u001b[0m  \u001b[1;37m▮\u001b[0m  \u001b[1;37m▮\u001b[0m  \u001b[1;37m▮\u001b[0m  \u001b[1;37m▮\u001b[0m  \u001b[1;37m▮\u001b[0m  \u001b[1;37m▮\u001b[0m  \u001b[1;37m▮\u001b[0m \n",
      " \u001b[1;35mV\u001b[0m  \u001b[1;35mV\u001b[0m  \u001b[1;35mV\u001b[0m  \u001b[1;35mV\u001b[0m  \u001b[1;35mV\u001b[0m  \u001b[1;35mV\u001b[0m  \u001b[1;35mV\u001b[0m  \u001b[1;37m▮\u001b[0m  \u001b[1;37m▮\u001b[0m  \u001b[1;37m▮\u001b[0m  \u001b[1;37m▮\u001b[0m  \u001b[1;37m▮\u001b[0m  \u001b[1;37m▮\u001b[0m  \u001b[1;37m▮\u001b[0m  \u001b[1;37m▮\u001b[0m  \u001b[1;37m▮\u001b[0m  \u001b[1;37m▮\u001b[0m  \u001b[1;37m▮\u001b[0m  \u001b[1;37m▮\u001b[0m  \u001b[1;37m▮\u001b[0m \n",
      " \u001b[1;35mV\u001b[0m  \u001b[1;35mV\u001b[0m  \u001b[1;35mV\u001b[0m  \u001b[1;35mV\u001b[0m  \u001b[1;35mV\u001b[0m  \u001b[1;35mV\u001b[0m  \u001b[1;35mV\u001b[0m  \u001b[1;35mV\u001b[0m  \u001b[1;35mV\u001b[0m  \u001b[1;35mV\u001b[0m  \u001b[1;37m▮\u001b[0m  \u001b[1;37m▮\u001b[0m  \u001b[1;37m▮\u001b[0m  \u001b[1;37m▮\u001b[0m  \u001b[1;37m▮\u001b[0m  \u001b[1;37m▮\u001b[0m  \u001b[1;37m▮\u001b[0m  \u001b[1;37m▮\u001b[0m  \u001b[1;37m▮\u001b[0m  \u001b[1;37m▮\u001b[0m \n",
      " \u001b[1;35mV\u001b[0m  \u001b[1;35mV\u001b[0m  \u001b[1;35mV\u001b[0m  \u001b[1;35mV\u001b[0m  \u001b[1;35mV\u001b[0m  \u001b[1;35mV\u001b[0m  \u001b[1;35mV\u001b[0m  \u001b[1;35mV\u001b[0m  \u001b[1;35mV\u001b[0m  \u001b[1;35mV\u001b[0m  \u001b[1;35mV\u001b[0m  \u001b[1;35mV\u001b[0m  ▮  ▮  ▮  ▮  ▮  \u001b[1;37m▮\u001b[0m  \u001b[1;37m▮\u001b[0m  \u001b[1;37m▮\u001b[0m \n",
      " \u001b[1;31m▮\u001b[0m  \u001b[1;34m▮\u001b[0m  \u001b[1;34m▮\u001b[0m  \u001b[1;34m▮\u001b[0m  \u001b[1;34m▮\u001b[0m  \u001b[1;34m▮\u001b[0m  \u001b[1;34m▮\u001b[0m  \u001b[1;34m▮\u001b[0m  \u001b[1;35mV\u001b[0m  \u001b[1;35mV\u001b[0m  \u001b[1;35mV\u001b[0m  \u001b[1;35mV\u001b[0m  ▮  \u001b[1;37m▮\u001b[0m  \u001b[1;37m▮\u001b[0m  \u001b[1;37m▮\u001b[0m  \u001b[1;37m▮\u001b[0m  \u001b[1;37m▮\u001b[0m  \u001b[1;37m▮\u001b[0m  \u001b[1;37m▮\u001b[0m \n",
      " \u001b[1;35mV\u001b[0m  \u001b[1;35mV\u001b[0m  \u001b[1;35mV\u001b[0m  \u001b[1;35mV\u001b[0m  \u001b[1;35mV\u001b[0m  \u001b[1;35mV\u001b[0m  \u001b[1;35mV\u001b[0m  \u001b[1;34m▮\u001b[0m  \u001b[1;35mV\u001b[0m  \u001b[1;35mV\u001b[0m  \u001b[1;35mV\u001b[0m  \u001b[1;35mV\u001b[0m  ▮  \u001b[1;37m▮\u001b[0m  \u001b[1;37m▮\u001b[0m  \u001b[1;37m▮\u001b[0m  \u001b[1;37m▮\u001b[0m  \u001b[1;37m▮\u001b[0m  \u001b[1;37m▮\u001b[0m  \u001b[1;37m▮\u001b[0m \n",
      " \u001b[1;35mV\u001b[0m  \u001b[1;35mV\u001b[0m  \u001b[1;35mV\u001b[0m  \u001b[1;35mV\u001b[0m  \u001b[1;35mV\u001b[0m  \u001b[1;35mV\u001b[0m  \u001b[1;35mV\u001b[0m  \u001b[1;34m▮\u001b[0m  \u001b[1;35mV\u001b[0m  \u001b[1;35mV\u001b[0m  \u001b[1;35mV\u001b[0m  \u001b[1;35mV\u001b[0m  ▮  \u001b[1;37m▮\u001b[0m  \u001b[1;37m▮\u001b[0m  \u001b[1;37m▮\u001b[0m  \u001b[1;37m▮\u001b[0m  \u001b[1;37m▮\u001b[0m  \u001b[1;37m▮\u001b[0m  \u001b[1;37m▮\u001b[0m \n",
      " \u001b[1;35mV\u001b[0m  \u001b[1;35mV\u001b[0m  \u001b[1;35mV\u001b[0m  \u001b[1;35mV\u001b[0m  \u001b[1;35mV\u001b[0m  \u001b[1;35mV\u001b[0m  \u001b[1;35mV\u001b[0m  \u001b[1;34m▮\u001b[0m  ▮  \u001b[1;35mV\u001b[0m  \u001b[1;35mV\u001b[0m  \u001b[1;35mV\u001b[0m  ▮  \u001b[1;37m▮\u001b[0m  \u001b[1;37m▮\u001b[0m  \u001b[1;37m▮\u001b[0m  \u001b[1;37m▮\u001b[0m  \u001b[1;37m▮\u001b[0m  \u001b[1;37m▮\u001b[0m  \u001b[1;37m▮\u001b[0m \n",
      " \u001b[1;35mV\u001b[0m  \u001b[1;35mV\u001b[0m  \u001b[1;35mV\u001b[0m  \u001b[1;35mV\u001b[0m  \u001b[1;35mV\u001b[0m  \u001b[1;35mV\u001b[0m  \u001b[1;35mV\u001b[0m  \u001b[1;34m▮\u001b[0m  ▮  \u001b[1;35mV\u001b[0m  \u001b[1;35mV\u001b[0m  \u001b[1;35mV\u001b[0m  ▮  \u001b[1;37m▮\u001b[0m  \u001b[1;37m▮\u001b[0m  \u001b[1;37m▮\u001b[0m  \u001b[1;37m▮\u001b[0m  \u001b[1;37m▮\u001b[0m  \u001b[1;37m▮\u001b[0m  \u001b[1;37m▮\u001b[0m \n",
      " \u001b[1;35mV\u001b[0m  \u001b[1;35mV\u001b[0m  \u001b[1;35mV\u001b[0m  \u001b[1;35mV\u001b[0m  \u001b[1;35mV\u001b[0m  \u001b[1;35mV\u001b[0m  \u001b[1;35mV\u001b[0m  \u001b[1;34m▮\u001b[0m  ▮  \u001b[1;35mV\u001b[0m  \u001b[1;35mV\u001b[0m  \u001b[1;35mV\u001b[0m  ▮  \u001b[1;37m▮\u001b[0m  \u001b[1;37m▮\u001b[0m  \u001b[1;37m▮\u001b[0m  \u001b[1;37m▮\u001b[0m  \u001b[1;37m▮\u001b[0m  \u001b[1;37m▮\u001b[0m  \u001b[1;37m▮\u001b[0m \n",
      " \u001b[1;35mV\u001b[0m  \u001b[1;35mV\u001b[0m  \u001b[1;35mV\u001b[0m  \u001b[1;35mV\u001b[0m  \u001b[1;35mV\u001b[0m  \u001b[1;35mV\u001b[0m  \u001b[1;35mV\u001b[0m  \u001b[1;34m▮\u001b[0m  ▮  ▮  ▮  ▮  ▮  \u001b[1;37m▮\u001b[0m  \u001b[1;37m▮\u001b[0m  \u001b[1;37m▮\u001b[0m  \u001b[1;37m▮\u001b[0m  \u001b[1;37m▮\u001b[0m  \u001b[1;37m▮\u001b[0m  \u001b[1;37m▮\u001b[0m \n",
      " \u001b[1;35mV\u001b[0m  \u001b[1;35mV\u001b[0m  \u001b[1;35mV\u001b[0m  \u001b[1;35mV\u001b[0m  \u001b[1;35mV\u001b[0m  \u001b[1;35mV\u001b[0m  \u001b[1;35mV\u001b[0m  \u001b[1;34m▮\u001b[0m  ▮  \u001b[1;37m▮\u001b[0m  \u001b[1;37m▮\u001b[0m  \u001b[1;37m▮\u001b[0m  \u001b[1;37m▮\u001b[0m  \u001b[1;37m▮\u001b[0m  \u001b[1;37m▮\u001b[0m  \u001b[1;37m▮\u001b[0m  \u001b[1;37m▮\u001b[0m  \u001b[1;37m▮\u001b[0m  \u001b[1;37m▮\u001b[0m  \u001b[1;37m▮\u001b[0m \n",
      " \u001b[1;35mV\u001b[0m  \u001b[1;35mV\u001b[0m  \u001b[1;35mV\u001b[0m  \u001b[1;35mV\u001b[0m  \u001b[1;35mV\u001b[0m  \u001b[1;35mV\u001b[0m  \u001b[1;35mV\u001b[0m  \u001b[1;34m▮\u001b[0m  \u001b[1;34m▮\u001b[0m  \u001b[1;34m▮\u001b[0m  \u001b[1;34m▮\u001b[0m  \u001b[1;34m▮\u001b[0m  \u001b[1;34m▮\u001b[0m  \u001b[1;34m▮\u001b[0m  \u001b[1;34m▮\u001b[0m  \u001b[1;34m▮\u001b[0m  \u001b[1;37m▮\u001b[0m  \u001b[1;37m▮\u001b[0m  \u001b[1;37m▮\u001b[0m  \u001b[1;37m▮\u001b[0m \n",
      " \u001b[1;35mV\u001b[0m  \u001b[1;35mV\u001b[0m  \u001b[1;35mV\u001b[0m  \u001b[1;35mV\u001b[0m  \u001b[1;35mV\u001b[0m  \u001b[1;35mV\u001b[0m  \u001b[1;35mV\u001b[0m  \u001b[1;35mV\u001b[0m  \u001b[1;35mV\u001b[0m  \u001b[1;35mV\u001b[0m  \u001b[1;35mV\u001b[0m  \u001b[1;35mV\u001b[0m  \u001b[1;35mV\u001b[0m  \u001b[1;35mV\u001b[0m  \u001b[1;35mV\u001b[0m  \u001b[1;32m▮\u001b[0m  \u001b[1;37m▮\u001b[0m  \u001b[1;37m▮\u001b[0m  \u001b[1;37m▮\u001b[0m  \u001b[1;37m▮\u001b[0m \n",
      " \u001b[1;37m▮\u001b[0m  \u001b[1;37m▮\u001b[0m  \u001b[1;37m▮\u001b[0m  \u001b[1;37m▮\u001b[0m  \u001b[1;37m▮\u001b[0m  \u001b[1;37m▮\u001b[0m  \u001b[1;37m▮\u001b[0m  \u001b[1;37m▮\u001b[0m  \u001b[1;37m▮\u001b[0m  \u001b[1;37m▮\u001b[0m  \u001b[1;37m▮\u001b[0m  \u001b[1;37m▮\u001b[0m  \u001b[1;37m▮\u001b[0m  \u001b[1;37m▮\u001b[0m  \u001b[1;37m▮\u001b[0m  \u001b[1;37m▮\u001b[0m  \u001b[1;37m▮\u001b[0m  \u001b[1;37m▮\u001b[0m  \u001b[1;37m▮\u001b[0m  \u001b[1;37m▮\u001b[0m \n"
     ]
    }
   ],
   "source": [
    "path_a = m.get_astar_path((0,10), (15,1), use_nx=False, symbol_print=False)"
   ]
  }
 ],
 "metadata": {
  "celltoolbar": "Slideshow",
  "kernelspec": {
   "display_name": "Python 3",
   "language": "python",
   "name": "python3"
  },
  "language_info": {
   "codemirror_mode": {
    "name": "ipython",
    "version": 3
   },
   "file_extension": ".py",
   "mimetype": "text/x-python",
   "name": "python",
   "nbconvert_exporter": "python",
   "pygments_lexer": "ipython3",
   "version": "3.6.4"
  }
 },
 "nbformat": 4,
 "nbformat_minor": 2
}
