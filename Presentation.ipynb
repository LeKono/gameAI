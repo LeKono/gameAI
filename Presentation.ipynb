{
 "cells": [
  {
   "cell_type": "code",
   "execution_count": 1,
   "metadata": {
    "slideshow": {
     "slide_type": "skip"
    }
   },
   "outputs": [],
   "source": [
    "# Import\n",
    "import matplotlib.pyplot as plt\n",
    "import numpy as np"
   ]
  },
  {
   "cell_type": "markdown",
   "metadata": {
    "slideshow": {
     "slide_type": "slide"
    }
   },
   "source": [
    "# GameAI\n",
    "## Project 01 - Simple strategies for turn-based games"
   ]
  },
  {
   "cell_type": "markdown",
   "metadata": {
    "slideshow": {
     "slide_type": "slide"
    }
   },
   "source": [
    "## Task 1.2 - Simple strategies for tic tac toe"
   ]
  },
  {
   "cell_type": "markdown",
   "metadata": {
    "slideshow": {
     "slide_type": "fragment"
    }
   },
   "source": [
    "* Script -> Object oriented implementation\n",
    " * Play multiple games on one instance (`reset_game()`)\n",
    " * Collect data in the object"
   ]
  },
  {
   "cell_type": "code",
   "execution_count": 2,
   "metadata": {
    "slideshow": {
     "slide_type": "fragment"
    }
   },
   "outputs": [],
   "source": [
    "# Import and initiate TicTacToe\n",
    "from tic_tac_toe_B import TicTacToe\n",
    "tic_tac_toe = TicTacToe()"
   ]
  },
  {
   "cell_type": "code",
   "execution_count": 3,
   "metadata": {
    "slideshow": {
     "slide_type": "subslide"
    }
   },
   "outputs": [
    {
     "name": "stdout",
     "output_type": "stream",
     "text": [
      "x moves\n",
      "[[' ' ' ' ' ']\n",
      " [' ' ' ' ' ']\n",
      " [' ' 'x' ' ']]\n",
      "o moves\n",
      "[['o' ' ' ' ']\n",
      " [' ' ' ' ' ']\n",
      " [' ' 'x' ' ']]\n",
      "x moves\n",
      "[['o' ' ' ' ']\n",
      " [' ' ' ' 'x']\n",
      " [' ' 'x' ' ']]\n",
      "o moves\n",
      "[['o' 'o' ' ']\n",
      " [' ' ' ' 'x']\n",
      " [' ' 'x' ' ']]\n",
      "x moves\n",
      "[['o' 'o' ' ']\n",
      " ['x' ' ' 'x']\n",
      " [' ' 'x' ' ']]\n",
      "o moves\n",
      "[['o' 'o' 'o']\n",
      " ['x' ' ' 'x']\n",
      " [' ' 'x' ' ']]\n",
      "player o wins after 6 moves\n"
     ]
    },
    {
     "data": {
      "text/plain": [
       "-1"
      ]
     },
     "execution_count": 3,
     "metadata": {},
     "output_type": "execute_result"
    }
   ],
   "source": [
    "tic_tac_toe.play_a_game()"
   ]
  },
  {
   "cell_type": "code",
   "execution_count": 4,
   "metadata": {
    "slideshow": {
     "slide_type": "skip"
    }
   },
   "outputs": [
    {
     "data": {
      "text/plain": [
       "array([[1, 1, 1],\n",
       "       [0, 0, 0],\n",
       "       [0, 0, 0]])"
      ]
     },
     "execution_count": 4,
     "metadata": {},
     "output_type": "execute_result"
    }
   ],
   "source": [
    "# Array containing count data\n",
    "tic_tac_toe.S_stats"
   ]
  },
  {
   "cell_type": "code",
   "execution_count": 5,
   "metadata": {
    "slideshow": {
     "slide_type": "skip"
    }
   },
   "outputs": [],
   "source": [
    "# Completely reset the data in the instance.\n",
    "tic_tac_toe.reset_game(total_reset=True)"
   ]
  },
  {
   "cell_type": "markdown",
   "metadata": {
    "slideshow": {
     "slide_type": "subslide"
    }
   },
   "source": [
    "## 1.2.1 - Implement a probabilistic strategy\n",
    "\n",
    "* Play at least 1000 games\n",
    "\n",
    "* Count cell contribution to a win\n",
    "\n",
    "* Normalize count data\n",
    "\n",
    "* Make player X to 'use' the data"
   ]
  },
  {
   "cell_type": "markdown",
   "metadata": {
    "slideshow": {
     "slide_type": "subslide"
    }
   },
   "source": [
    "* Play at least 1000 games\n",
    "* ..."
   ]
  },
  {
   "cell_type": "code",
   "execution_count": 6,
   "metadata": {
    "scrolled": true,
    "slideshow": {
     "slide_type": "skip"
    }
   },
   "outputs": [
    {
     "name": "stdout",
     "output_type": "stream",
     "text": [
      "=== Lap: 0 ===\n",
      "'x'\t1\n",
      "'o'\t0\n",
      "DRAW\t0\n",
      "=== Lap: 5000 ===\n",
      "'x'\t2982\n",
      "'o'\t1383\n",
      "DRAW\t636\n",
      "Tournament results in: \n",
      "'x'\t5871\n",
      "'o'\t2828\n",
      "DRAW\t1301\n"
     ]
    }
   ],
   "source": [
    "tournament_results = tic_tac_toe.play_a_tournament(laps=10000, printing_modulo=5000)"
   ]
  },
  {
   "cell_type": "code",
   "execution_count": 7,
   "metadata": {
    "slideshow": {
     "slide_type": "subslide"
    }
   },
   "outputs": [
    {
     "data": {
      "image/png": "[encoded data removed]",
      "text/plain": [
       "<Figure size 432x288 with 1 Axes>"
      ]
     },
     "metadata": {},
     "output_type": "display_data"
    }
   ],
   "source": [
    "# Plot Barchart of wins and draws\n",
    "tic_tac_toe.plot_bar(label=\"Random Tournament\", statistics=tournament_results)"
   ]
  },
  {
   "cell_type": "markdown",
   "metadata": {
    "slideshow": {
     "slide_type": "subslide"
    }
   },
   "source": [
    "* ...\n",
    "\n",
    "* Count cell contribution to a win\n",
    "\n",
    "* Normalize count data\n",
    "\n",
    "* ..."
   ]
  },
  {
   "cell_type": "code",
   "execution_count": 8,
   "metadata": {
    "slideshow": {
     "slide_type": "fragment"
    }
   },
   "outputs": [
    {
     "data": {
      "text/plain": [
       "array([[3523, 2002, 3532],\n",
       "       [2082, 5001, 2070],\n",
       "       [3546, 2004, 3513]])"
      ]
     },
     "execution_count": 8,
     "metadata": {},
     "output_type": "execute_result"
    }
   ],
   "source": [
    "# Cell contribution to wins\n",
    "tic_tac_toe.S_stats"
   ]
  },
  {
   "cell_type": "code",
   "execution_count": 9,
   "metadata": {
    "slideshow": {
     "slide_type": "fragment"
    }
   },
   "outputs": [
    {
     "name": "stdout",
     "output_type": "stream",
     "text": [
      "Field\tNormalized value\n",
      "0\t0.12917537491291753\n",
      "1\t0.07340593260734059\n",
      "2\t0.12950537161295053\n",
      "3\t0.07633923660763392\n",
      "4\t0.18336816631833683\n",
      "5\t0.07589924100758992\n",
      "6\t0.13001869981300188\n",
      "7\t0.07347926520734793\n",
      "8\t0.12880871191288087\n"
     ]
    }
   ],
   "source": [
    "# Normalize data and save to a JSON file\n",
    "tic_tac_toe.normalize_statistics(print_normalization=True)"
   ]
  },
  {
   "cell_type": "markdown",
   "metadata": {
    "slideshow": {
     "slide_type": "subslide"
    }
   },
   "source": [
    "* ...\n",
    "\n",
    "* Make player X to 'use' the data"
   ]
  },
  {
   "cell_type": "code",
   "execution_count": 10,
   "metadata": {
    "scrolled": true,
    "slideshow": {
     "slide_type": "fragment"
    }
   },
   "outputs": [
    {
     "name": "stdout",
     "output_type": "stream",
     "text": [
      "=== Lap: 0 ===\n",
      "'x'\t1\n",
      "'o'\t0\n",
      "DRAW\t0\n",
      "=== Lap: 5000 ===\n",
      "'x'\t4310\n",
      "'o'\t382\n",
      "DRAW\t309\n",
      "Tournament results in: \n",
      "'x'\t8620\n",
      "'o'\t767\n",
      "DRAW\t613\n"
     ]
    }
   ],
   "source": [
    "# Play a non random tournament (using determined statistics)\n",
    "prob_stats = tic_tac_toe.play_a_tournament(laps=10000, printing_modulo=5000, random=False, x_player_method='p')"
   ]
  },
  {
   "cell_type": "code",
   "execution_count": 13,
   "metadata": {
    "slideshow": {
     "slide_type": "subslide"
    }
   },
   "outputs": [
    {
     "data": {
      "image/png": "[encoded data removed]",
      "text/plain": [
       "<Figure size 432x288 with 1 Axes>"
      ]
     },
     "metadata": {},
     "output_type": "display_data"
    }
   ],
   "source": [
    "# Plot Barchart of wins and draws\n",
    "tic_tac_toe.plot_bar(statistics=prob_stats)"
   ]
  },
  {
   "cell_type": "markdown",
   "metadata": {
    "slideshow": {
     "slide_type": "slide"
    }
   },
   "source": [
    "## 1.2.2 - Implement a heuristic strategy\n",
    "\n",
    "* Evaluate quality of potential move\n",
    "\n",
    "\n",
    "* Make player X to follow that strategy"
   ]
  },
  {
   "cell_type": "markdown",
   "metadata": {
    "slideshow": {
     "slide_type": "subslide"
    }
   },
   "source": [
    "* Evaluate quality of potential move\n",
    " * Consider all free positions\n",
    " * Select most auspicious one"
   ]
  },
  {
   "cell_type": "markdown",
   "metadata": {
    "slideshow": {
     "slide_type": "fragment"
    }
   },
   "source": [
    "1. Can I win?\n",
    " 1. Yes: Put the mark here\n",
    " 2. No: Continue with 2\n",
    "  \n",
    "2. Can oponent win?\n",
    " 1. Yes: Put the mark here\n",
    " 2. No: Continue with 3\n",
    " \n",
    "3. Apply probabilistic strategy"
   ]
  },
  {
   "cell_type": "code",
   "execution_count": 14,
   "metadata": {
    "scrolled": true,
    "slideshow": {
     "slide_type": "skip"
    }
   },
   "outputs": [
    {
     "name": "stdout",
     "output_type": "stream",
     "text": [
      "=== Lap: 0 ===\n",
      "'x'\t1\n",
      "'o'\t0\n",
      "DRAW\t0\n",
      "=== Lap: 5000 ===\n",
      "'x'\t4752\n",
      "'o'\t0\n",
      "DRAW\t249\n",
      "Tournament results in: \n",
      "'x'\t9502\n",
      "'o'\t0\n",
      "DRAW\t498\n"
     ]
    }
   ],
   "source": [
    "# Play a non random tournament (using evaluation of free field)\n",
    "heu_stats = tic_tac_toe.play_a_tournament(laps=10000, printing_modulo=5000, random=False, x_player_method=\"h\")"
   ]
  },
  {
   "cell_type": "code",
   "execution_count": 15,
   "metadata": {
    "slideshow": {
     "slide_type": "subslide"
    }
   },
   "outputs": [
    {
     "data": {
      "image/png": "[encoded data removed]",
      "text/plain": [
       "<Figure size 432x288 with 1 Axes>"
      ]
     },
     "metadata": {},
     "output_type": "display_data"
    }
   ],
   "source": [
    "# Plot Barchart of wins and draws\n",
    "tic_tac_toe.plot_bar(statistics=heu_stats)"
   ]
  },
  {
   "cell_type": "code",
   "execution_count": null,
   "metadata": {},
   "outputs": [],
   "source": []
  }
 ],
 "metadata": {
  "celltoolbar": "Slideshow",
  "kernelspec": {
   "display_name": "Python 3",
   "language": "python",
   "name": "python3"
  },
  "language_info": {
   "codemirror_mode": {
    "name": "ipython",
    "version": 3
   },
   "file_extension": ".py",
   "mimetype": "text/x-python",
   "name": "python",
   "nbconvert_exporter": "python",
   "pygments_lexer": "ipython3",
   "version": "3.6.4"
  }
 },
 "nbformat": 4,
 "nbformat_minor": 2
}
